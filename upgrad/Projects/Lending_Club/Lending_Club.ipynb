{
 "cells": [
  {
   "cell_type": "code",
   "execution_count": 154,
   "metadata": {},
   "outputs": [],
   "source": [
    "## Data Cleaning"
   ]
  },
  {
   "cell_type": "code",
   "execution_count": 155,
   "metadata": {},
   "outputs": [],
   "source": [
    "import numpy as np\n",
    "import pandas as pd\n",
    "import matplotlib.pyplot as plt\n",
    "import seaborn as sns"
   ]
  },
  {
   "cell_type": "code",
   "execution_count": 156,
   "metadata": {},
   "outputs": [
    {
     "data": {
      "text/plain": [
       "(39717, 111)"
      ]
     },
     "execution_count": 156,
     "metadata": {},
     "output_type": "execute_result"
    }
   ],
   "source": [
    "# loan_df = pd.read_csv('loan.csv', encoding = \"ISO-8859-1\", engine='python')\n",
    "loan_df = pd.read_csv('loan.csv',encoding = \"ISO-8859-1\", low_memory=False)\n",
    "loan_df.shape"
   ]
  },
  {
   "cell_type": "code",
   "execution_count": 157,
   "metadata": {},
   "outputs": [
    {
     "data": {
      "text/plain": [
       "39717"
      ]
     },
     "execution_count": 157,
     "metadata": {},
     "output_type": "execute_result"
    }
   ],
   "source": [
    "# number of rows\n",
    "loan_df['id'].count()"
   ]
  },
  {
   "cell_type": "code",
   "execution_count": 158,
   "metadata": {},
   "outputs": [
    {
     "data": {
      "text/plain": [
       "id                              0.0\n",
       "member_id                       0.0\n",
       "loan_amnt                       0.0\n",
       "funded_amnt                     0.0\n",
       "funded_amnt_inv                 0.0\n",
       "                              ...  \n",
       "tax_liens                       0.0\n",
       "tot_hi_cred_lim               100.0\n",
       "total_bal_ex_mort             100.0\n",
       "total_bc_limit                100.0\n",
       "total_il_high_credit_limit    100.0\n",
       "Length: 111, dtype: float64"
      ]
     },
     "execution_count": 158,
     "metadata": {},
     "output_type": "execute_result"
    }
   ],
   "source": [
    "# percentage of null values in each column\n",
    "round(100 * loan_df.isnull().sum()/loan_df['id'].count())"
   ]
  },
  {
   "cell_type": "code",
   "execution_count": 159,
   "metadata": {},
   "outputs": [
    {
     "data": {
      "text/plain": [
       "(39717, 54)"
      ]
     },
     "execution_count": 159,
     "metadata": {},
     "output_type": "execute_result"
    }
   ],
   "source": [
    "# Removing columns that have more that 50% nulls\n",
    "threshold_number = loan_df['id'].count()/2\n",
    "loan_df = loan_df.loc[:, loan_df.isnull().sum(axis=0) <= threshold_number]\n",
    "loan_df.shape"
   ]
  },
  {
   "cell_type": "code",
   "execution_count": 160,
   "metadata": {},
   "outputs": [
    {
     "data": {
      "text/plain": [
       "id                            39717\n",
       "member_id                     39717\n",
       "loan_amnt                       885\n",
       "funded_amnt                    1041\n",
       "funded_amnt_inv                8205\n",
       "term                              2\n",
       "int_rate                        371\n",
       "installment                   15383\n",
       "grade                             7\n",
       "sub_grade                        35\n",
       "emp_title                     28820\n",
       "emp_length                       11\n",
       "home_ownership                    5\n",
       "annual_inc                     5318\n",
       "verification_status               3\n",
       "issue_d                          55\n",
       "loan_status                       3\n",
       "pymnt_plan                        1\n",
       "url                           39717\n",
       "desc                          26527\n",
       "purpose                          14\n",
       "title                         19615\n",
       "zip_code                        823\n",
       "addr_state                       50\n",
       "dti                            2868\n",
       "delinq_2yrs                      11\n",
       "earliest_cr_line                526\n",
       "inq_last_6mths                    9\n",
       "open_acc                         40\n",
       "pub_rec                           5\n",
       "revol_bal                     21711\n",
       "revol_util                     1089\n",
       "total_acc                        82\n",
       "initial_list_status               1\n",
       "out_prncp                      1137\n",
       "out_prncp_inv                  1138\n",
       "total_pymnt                   37850\n",
       "total_pymnt_inv               37518\n",
       "total_rec_prncp                7976\n",
       "total_rec_int                 35148\n",
       "total_rec_late_fee             1356\n",
       "recoveries                     4040\n",
       "collection_recovery_fee        2616\n",
       "last_pymnt_d                    101\n",
       "last_pymnt_amnt               34930\n",
       "last_credit_pull_d              106\n",
       "collections_12_mths_ex_med        1\n",
       "policy_code                       1\n",
       "application_type                  1\n",
       "acc_now_delinq                    1\n",
       "chargeoff_within_12_mths          1\n",
       "delinq_amnt                       1\n",
       "pub_rec_bankruptcies              3\n",
       "tax_liens                         1\n",
       "dtype: int64"
      ]
     },
     "execution_count": 160,
     "metadata": {},
     "output_type": "execute_result"
    }
   ],
   "source": [
    "# Checking number of unique values in each column\n",
    "loan_df.nunique()"
   ]
  },
  {
   "cell_type": "code",
   "execution_count": 161,
   "metadata": {},
   "outputs": [
    {
     "data": {
      "text/plain": [
       "(39717, 45)"
      ]
     },
     "execution_count": 161,
     "metadata": {},
     "output_type": "execute_result"
    }
   ],
   "source": [
    "# Removing columns that has single value. Those columns will not give us any insights\n",
    "loan_df = loan_df.loc[:, loan_df.nunique(axis=0) > 1]\n",
    "loan_df.shape"
   ]
  },
  {
   "cell_type": "code",
   "execution_count": 162,
   "metadata": {},
   "outputs": [
    {
     "data": {
      "text/plain": [
       "id                         39717\n",
       "url                        39717\n",
       "member_id                  39717\n",
       "total_pymnt                37850\n",
       "total_pymnt_inv            37518\n",
       "total_rec_int              35148\n",
       "last_pymnt_amnt            34930\n",
       "emp_title                  28820\n",
       "desc                       26527\n",
       "revol_bal                  21711\n",
       "title                      19615\n",
       "installment                15383\n",
       "funded_amnt_inv             8205\n",
       "total_rec_prncp             7976\n",
       "annual_inc                  5318\n",
       "recoveries                  4040\n",
       "dti                         2868\n",
       "collection_recovery_fee     2616\n",
       "total_rec_late_fee          1356\n",
       "out_prncp_inv               1138\n",
       "out_prncp                   1137\n",
       "revol_util                  1089\n",
       "funded_amnt                 1041\n",
       "loan_amnt                    885\n",
       "zip_code                     823\n",
       "earliest_cr_line             526\n",
       "int_rate                     371\n",
       "last_credit_pull_d           106\n",
       "last_pymnt_d                 101\n",
       "total_acc                     82\n",
       "issue_d                       55\n",
       "addr_state                    50\n",
       "open_acc                      40\n",
       "sub_grade                     35\n",
       "purpose                       14\n",
       "emp_length                    11\n",
       "delinq_2yrs                   11\n",
       "inq_last_6mths                 9\n",
       "grade                          7\n",
       "home_ownership                 5\n",
       "pub_rec                        5\n",
       "verification_status            3\n",
       "loan_status                    3\n",
       "pub_rec_bankruptcies           3\n",
       "term                           2\n",
       "dtype: int64"
      ]
     },
     "execution_count": 162,
     "metadata": {},
     "output_type": "execute_result"
    }
   ],
   "source": [
    "loan_df.nunique().sort_values(ascending=False)"
   ]
  },
  {
   "cell_type": "code",
   "execution_count": 163,
   "metadata": {},
   "outputs": [
    {
     "data": {
      "text/plain": [
       " 36 months    29096\n",
       " 60 months    10621\n",
       "Name: term, dtype: int64"
      ]
     },
     "execution_count": 163,
     "metadata": {},
     "output_type": "execute_result"
    }
   ],
   "source": [
    "# Checking data in the columns with low variation\n",
    "loan_df['term'].value_counts()"
   ]
  },
  {
   "cell_type": "code",
   "execution_count": 164,
   "metadata": {},
   "outputs": [],
   "source": [
    "# converting term to int, as it's months\n",
    "loan_df['term_months'] = loan_df['term'].str.lstrip().str.slice(stop=2).astype('int')"
   ]
  },
  {
   "cell_type": "code",
   "execution_count": 165,
   "metadata": {},
   "outputs": [
    {
     "data": {
      "text/plain": [
       "36    29096\n",
       "60    10621\n",
       "Name: term_months, dtype: int64"
      ]
     },
     "execution_count": 165,
     "metadata": {},
     "output_type": "execute_result"
    }
   ],
   "source": [
    "loan_df['term_months'].value_counts()"
   ]
  },
  {
   "cell_type": "code",
   "execution_count": 166,
   "metadata": {},
   "outputs": [],
   "source": [
    "# dropping term column\n",
    "loan_df = loan_df.drop('term', axis=1)"
   ]
  },
  {
   "cell_type": "code",
   "execution_count": 167,
   "metadata": {},
   "outputs": [
    {
     "data": {
      "text/plain": [
       "0"
      ]
     },
     "execution_count": 167,
     "metadata": {},
     "output_type": "execute_result"
    }
   ],
   "source": [
    "loan_df['term_months'].isnull().sum()"
   ]
  },
  {
   "cell_type": "code",
   "execution_count": 168,
   "metadata": {},
   "outputs": [
    {
     "data": {
      "text/plain": [
       "0.0    37339\n",
       "1.0     1674\n",
       "2.0        7\n",
       "Name: pub_rec_bankruptcies, dtype: int64"
      ]
     },
     "execution_count": 168,
     "metadata": {},
     "output_type": "execute_result"
    }
   ],
   "source": [
    "loan_df['pub_rec_bankruptcies'].value_counts()"
   ]
  },
  {
   "cell_type": "code",
   "execution_count": 169,
   "metadata": {},
   "outputs": [
    {
     "data": {
      "text/plain": [
       "697"
      ]
     },
     "execution_count": 169,
     "metadata": {},
     "output_type": "execute_result"
    }
   ],
   "source": [
    "loan_df['pub_rec_bankruptcies'].isnull().sum()"
   ]
  },
  {
   "cell_type": "code",
   "execution_count": 170,
   "metadata": {},
   "outputs": [],
   "source": [
    "# we dont want to be bias to bankruptcies. Removing rows with null values as it's safe to remove, since\n",
    "# low percentage of null values\n",
    "loan_df = loan_df[~loan_df['pub_rec_bankruptcies'].isnull()]"
   ]
  },
  {
   "cell_type": "code",
   "execution_count": 171,
   "metadata": {},
   "outputs": [
    {
     "data": {
      "text/plain": [
       "Fully Paid     32371\n",
       "Charged Off     5509\n",
       "Current         1140\n",
       "Name: loan_status, dtype: int64"
      ]
     },
     "execution_count": 171,
     "metadata": {},
     "output_type": "execute_result"
    }
   ],
   "source": [
    "loan_df['loan_status'].value_counts()"
   ]
  },
  {
   "cell_type": "code",
   "execution_count": 172,
   "metadata": {},
   "outputs": [
    {
     "data": {
      "text/plain": [
       "0"
      ]
     },
     "execution_count": 172,
     "metadata": {},
     "output_type": "execute_result"
    }
   ],
   "source": [
    "loan_df['loan_status'].isnull().sum()"
   ]
  },
  {
   "cell_type": "code",
   "execution_count": 173,
   "metadata": {},
   "outputs": [
    {
     "data": {
      "text/plain": [
       "id                          0.00\n",
       "member_id                   0.00\n",
       "loan_amnt                   0.00\n",
       "funded_amnt                 0.00\n",
       "funded_amnt_inv             0.00\n",
       "int_rate                    0.00\n",
       "installment                 0.00\n",
       "grade                       0.00\n",
       "sub_grade                   0.00\n",
       "emp_title                   6.19\n",
       "emp_length                  2.75\n",
       "home_ownership              0.00\n",
       "annual_inc                  0.00\n",
       "verification_status         0.00\n",
       "issue_d                     0.00\n",
       "loan_status                 0.00\n",
       "url                         0.00\n",
       "desc                       33.15\n",
       "purpose                     0.00\n",
       "title                       0.03\n",
       "zip_code                    0.00\n",
       "addr_state                  0.00\n",
       "dti                         0.00\n",
       "delinq_2yrs                 0.00\n",
       "earliest_cr_line            0.00\n",
       "inq_last_6mths              0.00\n",
       "open_acc                    0.00\n",
       "pub_rec                     0.00\n",
       "revol_bal                   0.00\n",
       "revol_util                  0.13\n",
       "total_acc                   0.00\n",
       "out_prncp                   0.00\n",
       "out_prncp_inv               0.00\n",
       "total_pymnt                 0.00\n",
       "total_pymnt_inv             0.00\n",
       "total_rec_prncp             0.00\n",
       "total_rec_int               0.00\n",
       "total_rec_late_fee          0.00\n",
       "recoveries                  0.00\n",
       "collection_recovery_fee     0.00\n",
       "last_pymnt_d                0.18\n",
       "last_pymnt_amnt             0.00\n",
       "last_credit_pull_d          0.00\n",
       "pub_rec_bankruptcies        0.00\n",
       "term_months                 0.00\n",
       "dtype: float64"
      ]
     },
     "execution_count": 173,
     "metadata": {},
     "output_type": "execute_result"
    }
   ],
   "source": [
    "# percentage of null values in each column\n",
    "round(100 * loan_df.isnull().sum()/loan_df['id'].count(),2)"
   ]
  },
  {
   "cell_type": "code",
   "execution_count": 174,
   "metadata": {},
   "outputs": [],
   "source": [
    "# removing description as it's not significant\n",
    "loan_df = loan_df.drop('desc', axis=1)"
   ]
  },
  {
   "cell_type": "code",
   "execution_count": 175,
   "metadata": {},
   "outputs": [],
   "source": [
    "# removing rows with null values(as they are low in percentage):\n",
    "# employee title, employee length, title, revol_util, last_pymnt_d\n",
    "loan_df = loan_df[~loan_df['emp_title'].isnull()]\n",
    "loan_df = loan_df[~loan_df['emp_length'].isnull()]\n",
    "loan_df = loan_df[~loan_df['title'].isnull()]\n",
    "loan_df = loan_df[~loan_df['revol_util'].isnull()]\n",
    "loan_df = loan_df[~loan_df['last_pymnt_d'].isnull()]"
   ]
  },
  {
   "cell_type": "code",
   "execution_count": 176,
   "metadata": {},
   "outputs": [
    {
     "data": {
      "text/plain": [
       "id                         0.0\n",
       "member_id                  0.0\n",
       "loan_amnt                  0.0\n",
       "funded_amnt                0.0\n",
       "funded_amnt_inv            0.0\n",
       "int_rate                   0.0\n",
       "installment                0.0\n",
       "grade                      0.0\n",
       "sub_grade                  0.0\n",
       "emp_title                  0.0\n",
       "emp_length                 0.0\n",
       "home_ownership             0.0\n",
       "annual_inc                 0.0\n",
       "verification_status        0.0\n",
       "issue_d                    0.0\n",
       "loan_status                0.0\n",
       "url                        0.0\n",
       "purpose                    0.0\n",
       "title                      0.0\n",
       "zip_code                   0.0\n",
       "addr_state                 0.0\n",
       "dti                        0.0\n",
       "delinq_2yrs                0.0\n",
       "earliest_cr_line           0.0\n",
       "inq_last_6mths             0.0\n",
       "open_acc                   0.0\n",
       "pub_rec                    0.0\n",
       "revol_bal                  0.0\n",
       "revol_util                 0.0\n",
       "total_acc                  0.0\n",
       "out_prncp                  0.0\n",
       "out_prncp_inv              0.0\n",
       "total_pymnt                0.0\n",
       "total_pymnt_inv            0.0\n",
       "total_rec_prncp            0.0\n",
       "total_rec_int              0.0\n",
       "total_rec_late_fee         0.0\n",
       "recoveries                 0.0\n",
       "collection_recovery_fee    0.0\n",
       "last_pymnt_d               0.0\n",
       "last_pymnt_amnt            0.0\n",
       "last_credit_pull_d         0.0\n",
       "pub_rec_bankruptcies       0.0\n",
       "term_months                0.0\n",
       "dtype: float64"
      ]
     },
     "execution_count": 176,
     "metadata": {},
     "output_type": "execute_result"
    }
   ],
   "source": [
    "# percentage of null values in each column\n",
    "round(100 * loan_df.isnull().sum()/loan_df['id'].count(),2)"
   ]
  },
  {
   "cell_type": "code",
   "execution_count": 177,
   "metadata": {},
   "outputs": [
    {
     "data": {
      "text/plain": [
       "term_months                    2\n",
       "pub_rec_bankruptcies           3\n",
       "loan_status                    3\n",
       "verification_status            3\n",
       "home_ownership                 4\n",
       "pub_rec                        5\n",
       "grade                          7\n",
       "inq_last_6mths                 9\n",
       "emp_length                    11\n",
       "delinq_2yrs                   11\n",
       "purpose                       14\n",
       "sub_grade                     35\n",
       "open_acc                      38\n",
       "addr_state                    49\n",
       "issue_d                       52\n",
       "total_acc                     79\n",
       "last_credit_pull_d            96\n",
       "last_pymnt_d                  97\n",
       "int_rate                     334\n",
       "earliest_cr_line             510\n",
       "zip_code                     806\n",
       "loan_amnt                    863\n",
       "funded_amnt                 1024\n",
       "out_prncp                   1064\n",
       "out_prncp_inv               1065\n",
       "revol_util                  1082\n",
       "total_rec_late_fee          1194\n",
       "collection_recovery_fee     2386\n",
       "dti                         2857\n",
       "recoveries                  3585\n",
       "annual_inc                  4924\n",
       "total_rec_prncp             7254\n",
       "funded_amnt_inv             7474\n",
       "installment                14367\n",
       "title                      17954\n",
       "revol_bal                  20790\n",
       "emp_title                  28207\n",
       "last_pymnt_amnt            32467\n",
       "total_rec_int              32523\n",
       "total_pymnt_inv            34524\n",
       "total_pymnt                34802\n",
       "url                        36433\n",
       "member_id                  36433\n",
       "id                         36433\n",
       "dtype: int64"
      ]
     },
     "execution_count": 177,
     "metadata": {},
     "output_type": "execute_result"
    }
   ],
   "source": [
    "loan_df.nunique().sort_values()"
   ]
  },
  {
   "cell_type": "code",
   "execution_count": 178,
   "metadata": {},
   "outputs": [
    {
     "data": {
      "text/html": [
       "<div>\n",
       "<style scoped>\n",
       "    .dataframe tbody tr th:only-of-type {\n",
       "        vertical-align: middle;\n",
       "    }\n",
       "\n",
       "    .dataframe tbody tr th {\n",
       "        vertical-align: top;\n",
       "    }\n",
       "\n",
       "    .dataframe thead th {\n",
       "        text-align: right;\n",
       "    }\n",
       "</style>\n",
       "<table border=\"1\" class=\"dataframe\">\n",
       "  <thead>\n",
       "    <tr style=\"text-align: right;\">\n",
       "      <th></th>\n",
       "      <th>id</th>\n",
       "      <th>member_id</th>\n",
       "      <th>loan_amnt</th>\n",
       "      <th>funded_amnt</th>\n",
       "      <th>funded_amnt_inv</th>\n",
       "      <th>int_rate</th>\n",
       "      <th>installment</th>\n",
       "      <th>grade</th>\n",
       "      <th>sub_grade</th>\n",
       "      <th>emp_title</th>\n",
       "      <th>...</th>\n",
       "      <th>total_rec_prncp</th>\n",
       "      <th>total_rec_int</th>\n",
       "      <th>total_rec_late_fee</th>\n",
       "      <th>recoveries</th>\n",
       "      <th>collection_recovery_fee</th>\n",
       "      <th>last_pymnt_d</th>\n",
       "      <th>last_pymnt_amnt</th>\n",
       "      <th>last_credit_pull_d</th>\n",
       "      <th>pub_rec_bankruptcies</th>\n",
       "      <th>term_months</th>\n",
       "    </tr>\n",
       "  </thead>\n",
       "  <tbody>\n",
       "    <tr>\n",
       "      <td>1</td>\n",
       "      <td>1077430</td>\n",
       "      <td>1314167</td>\n",
       "      <td>2500</td>\n",
       "      <td>2500</td>\n",
       "      <td>2500.0</td>\n",
       "      <td>15.27%</td>\n",
       "      <td>59.83</td>\n",
       "      <td>C</td>\n",
       "      <td>C4</td>\n",
       "      <td>Ryder</td>\n",
       "      <td>...</td>\n",
       "      <td>456.46</td>\n",
       "      <td>435.17</td>\n",
       "      <td>0.00</td>\n",
       "      <td>117.08</td>\n",
       "      <td>1.11</td>\n",
       "      <td>Apr-13</td>\n",
       "      <td>119.66</td>\n",
       "      <td>Sep-13</td>\n",
       "      <td>0.0</td>\n",
       "      <td>60</td>\n",
       "    </tr>\n",
       "    <tr>\n",
       "      <td>3</td>\n",
       "      <td>1076863</td>\n",
       "      <td>1277178</td>\n",
       "      <td>10000</td>\n",
       "      <td>10000</td>\n",
       "      <td>10000.0</td>\n",
       "      <td>13.49%</td>\n",
       "      <td>339.31</td>\n",
       "      <td>C</td>\n",
       "      <td>C1</td>\n",
       "      <td>AIR RESOURCES BOARD</td>\n",
       "      <td>...</td>\n",
       "      <td>10000.00</td>\n",
       "      <td>2214.92</td>\n",
       "      <td>16.97</td>\n",
       "      <td>0.00</td>\n",
       "      <td>0.00</td>\n",
       "      <td>Jan-15</td>\n",
       "      <td>357.48</td>\n",
       "      <td>Apr-16</td>\n",
       "      <td>0.0</td>\n",
       "      <td>36</td>\n",
       "    </tr>\n",
       "    <tr>\n",
       "      <td>4</td>\n",
       "      <td>1075358</td>\n",
       "      <td>1311748</td>\n",
       "      <td>3000</td>\n",
       "      <td>3000</td>\n",
       "      <td>3000.0</td>\n",
       "      <td>12.69%</td>\n",
       "      <td>67.79</td>\n",
       "      <td>B</td>\n",
       "      <td>B5</td>\n",
       "      <td>University Medical Group</td>\n",
       "      <td>...</td>\n",
       "      <td>2475.94</td>\n",
       "      <td>1037.39</td>\n",
       "      <td>0.00</td>\n",
       "      <td>0.00</td>\n",
       "      <td>0.00</td>\n",
       "      <td>May-16</td>\n",
       "      <td>67.79</td>\n",
       "      <td>May-16</td>\n",
       "      <td>0.0</td>\n",
       "      <td>60</td>\n",
       "    </tr>\n",
       "    <tr>\n",
       "      <td>5</td>\n",
       "      <td>1075269</td>\n",
       "      <td>1311441</td>\n",
       "      <td>5000</td>\n",
       "      <td>5000</td>\n",
       "      <td>5000.0</td>\n",
       "      <td>7.90%</td>\n",
       "      <td>156.46</td>\n",
       "      <td>A</td>\n",
       "      <td>A4</td>\n",
       "      <td>Veolia Transportaton</td>\n",
       "      <td>...</td>\n",
       "      <td>5000.00</td>\n",
       "      <td>632.21</td>\n",
       "      <td>0.00</td>\n",
       "      <td>0.00</td>\n",
       "      <td>0.00</td>\n",
       "      <td>Jan-15</td>\n",
       "      <td>161.03</td>\n",
       "      <td>Jan-16</td>\n",
       "      <td>0.0</td>\n",
       "      <td>36</td>\n",
       "    </tr>\n",
       "    <tr>\n",
       "      <td>6</td>\n",
       "      <td>1069639</td>\n",
       "      <td>1304742</td>\n",
       "      <td>7000</td>\n",
       "      <td>7000</td>\n",
       "      <td>7000.0</td>\n",
       "      <td>15.96%</td>\n",
       "      <td>170.08</td>\n",
       "      <td>C</td>\n",
       "      <td>C5</td>\n",
       "      <td>Southern Star Photography</td>\n",
       "      <td>...</td>\n",
       "      <td>6985.61</td>\n",
       "      <td>3125.23</td>\n",
       "      <td>0.00</td>\n",
       "      <td>0.00</td>\n",
       "      <td>0.00</td>\n",
       "      <td>May-16</td>\n",
       "      <td>1313.76</td>\n",
       "      <td>May-16</td>\n",
       "      <td>0.0</td>\n",
       "      <td>60</td>\n",
       "    </tr>\n",
       "  </tbody>\n",
       "</table>\n",
       "<p>5 rows × 44 columns</p>\n",
       "</div>"
      ],
      "text/plain": [
       "        id  member_id  loan_amnt  funded_amnt  funded_amnt_inv int_rate  \\\n",
       "1  1077430    1314167       2500         2500           2500.0   15.27%   \n",
       "3  1076863    1277178      10000        10000          10000.0   13.49%   \n",
       "4  1075358    1311748       3000         3000           3000.0   12.69%   \n",
       "5  1075269    1311441       5000         5000           5000.0    7.90%   \n",
       "6  1069639    1304742       7000         7000           7000.0   15.96%   \n",
       "\n",
       "   installment grade sub_grade                  emp_title  ...  \\\n",
       "1        59.83     C        C4                      Ryder  ...   \n",
       "3       339.31     C        C1        AIR RESOURCES BOARD  ...   \n",
       "4        67.79     B        B5   University Medical Group  ...   \n",
       "5       156.46     A        A4       Veolia Transportaton  ...   \n",
       "6       170.08     C        C5  Southern Star Photography  ...   \n",
       "\n",
       "  total_rec_prncp total_rec_int  total_rec_late_fee recoveries  \\\n",
       "1          456.46        435.17                0.00     117.08   \n",
       "3        10000.00       2214.92               16.97       0.00   \n",
       "4         2475.94       1037.39                0.00       0.00   \n",
       "5         5000.00        632.21                0.00       0.00   \n",
       "6         6985.61       3125.23                0.00       0.00   \n",
       "\n",
       "  collection_recovery_fee last_pymnt_d last_pymnt_amnt last_credit_pull_d  \\\n",
       "1                    1.11       Apr-13          119.66             Sep-13   \n",
       "3                    0.00       Jan-15          357.48             Apr-16   \n",
       "4                    0.00       May-16           67.79             May-16   \n",
       "5                    0.00       Jan-15          161.03             Jan-16   \n",
       "6                    0.00       May-16         1313.76             May-16   \n",
       "\n",
       "  pub_rec_bankruptcies term_months  \n",
       "1                  0.0          60  \n",
       "3                  0.0          36  \n",
       "4                  0.0          60  \n",
       "5                  0.0          36  \n",
       "6                  0.0          60  \n",
       "\n",
       "[5 rows x 44 columns]"
      ]
     },
     "execution_count": 178,
     "metadata": {},
     "output_type": "execute_result"
    }
   ],
   "source": [
    "loan_df.head()"
   ]
  },
  {
   "cell_type": "code",
   "execution_count": 179,
   "metadata": {},
   "outputs": [],
   "source": [
    "# int_rate and revol_util are percentage strings\n",
    "loan_df['int_rate'] = loan_df['int_rate'].str.strip('%').astype('float')\n",
    "loan_df['revol_util'] = loan_df['revol_util'].str.strip('%').astype('float')"
   ]
  },
  {
   "cell_type": "code",
   "execution_count": 180,
   "metadata": {},
   "outputs": [
    {
     "data": {
      "text/html": [
       "<div>\n",
       "<style scoped>\n",
       "    .dataframe tbody tr th:only-of-type {\n",
       "        vertical-align: middle;\n",
       "    }\n",
       "\n",
       "    .dataframe tbody tr th {\n",
       "        vertical-align: top;\n",
       "    }\n",
       "\n",
       "    .dataframe thead th {\n",
       "        text-align: right;\n",
       "    }\n",
       "</style>\n",
       "<table border=\"1\" class=\"dataframe\">\n",
       "  <thead>\n",
       "    <tr style=\"text-align: right;\">\n",
       "      <th></th>\n",
       "      <th>id</th>\n",
       "      <th>member_id</th>\n",
       "      <th>loan_amnt</th>\n",
       "      <th>funded_amnt</th>\n",
       "      <th>funded_amnt_inv</th>\n",
       "      <th>int_rate</th>\n",
       "      <th>installment</th>\n",
       "      <th>grade</th>\n",
       "      <th>sub_grade</th>\n",
       "      <th>emp_title</th>\n",
       "      <th>...</th>\n",
       "      <th>total_rec_prncp</th>\n",
       "      <th>total_rec_int</th>\n",
       "      <th>total_rec_late_fee</th>\n",
       "      <th>recoveries</th>\n",
       "      <th>collection_recovery_fee</th>\n",
       "      <th>last_pymnt_d</th>\n",
       "      <th>last_pymnt_amnt</th>\n",
       "      <th>last_credit_pull_d</th>\n",
       "      <th>pub_rec_bankruptcies</th>\n",
       "      <th>term_months</th>\n",
       "    </tr>\n",
       "  </thead>\n",
       "  <tbody>\n",
       "    <tr>\n",
       "      <td>1</td>\n",
       "      <td>1077430</td>\n",
       "      <td>1314167</td>\n",
       "      <td>2500</td>\n",
       "      <td>2500</td>\n",
       "      <td>2500.0</td>\n",
       "      <td>15.27</td>\n",
       "      <td>59.83</td>\n",
       "      <td>C</td>\n",
       "      <td>C4</td>\n",
       "      <td>Ryder</td>\n",
       "      <td>...</td>\n",
       "      <td>456.46</td>\n",
       "      <td>435.17</td>\n",
       "      <td>0.00</td>\n",
       "      <td>117.08</td>\n",
       "      <td>1.11</td>\n",
       "      <td>Apr-13</td>\n",
       "      <td>119.66</td>\n",
       "      <td>Sep-13</td>\n",
       "      <td>0.0</td>\n",
       "      <td>60</td>\n",
       "    </tr>\n",
       "    <tr>\n",
       "      <td>3</td>\n",
       "      <td>1076863</td>\n",
       "      <td>1277178</td>\n",
       "      <td>10000</td>\n",
       "      <td>10000</td>\n",
       "      <td>10000.0</td>\n",
       "      <td>13.49</td>\n",
       "      <td>339.31</td>\n",
       "      <td>C</td>\n",
       "      <td>C1</td>\n",
       "      <td>AIR RESOURCES BOARD</td>\n",
       "      <td>...</td>\n",
       "      <td>10000.00</td>\n",
       "      <td>2214.92</td>\n",
       "      <td>16.97</td>\n",
       "      <td>0.00</td>\n",
       "      <td>0.00</td>\n",
       "      <td>Jan-15</td>\n",
       "      <td>357.48</td>\n",
       "      <td>Apr-16</td>\n",
       "      <td>0.0</td>\n",
       "      <td>36</td>\n",
       "    </tr>\n",
       "    <tr>\n",
       "      <td>4</td>\n",
       "      <td>1075358</td>\n",
       "      <td>1311748</td>\n",
       "      <td>3000</td>\n",
       "      <td>3000</td>\n",
       "      <td>3000.0</td>\n",
       "      <td>12.69</td>\n",
       "      <td>67.79</td>\n",
       "      <td>B</td>\n",
       "      <td>B5</td>\n",
       "      <td>University Medical Group</td>\n",
       "      <td>...</td>\n",
       "      <td>2475.94</td>\n",
       "      <td>1037.39</td>\n",
       "      <td>0.00</td>\n",
       "      <td>0.00</td>\n",
       "      <td>0.00</td>\n",
       "      <td>May-16</td>\n",
       "      <td>67.79</td>\n",
       "      <td>May-16</td>\n",
       "      <td>0.0</td>\n",
       "      <td>60</td>\n",
       "    </tr>\n",
       "    <tr>\n",
       "      <td>5</td>\n",
       "      <td>1075269</td>\n",
       "      <td>1311441</td>\n",
       "      <td>5000</td>\n",
       "      <td>5000</td>\n",
       "      <td>5000.0</td>\n",
       "      <td>7.90</td>\n",
       "      <td>156.46</td>\n",
       "      <td>A</td>\n",
       "      <td>A4</td>\n",
       "      <td>Veolia Transportaton</td>\n",
       "      <td>...</td>\n",
       "      <td>5000.00</td>\n",
       "      <td>632.21</td>\n",
       "      <td>0.00</td>\n",
       "      <td>0.00</td>\n",
       "      <td>0.00</td>\n",
       "      <td>Jan-15</td>\n",
       "      <td>161.03</td>\n",
       "      <td>Jan-16</td>\n",
       "      <td>0.0</td>\n",
       "      <td>36</td>\n",
       "    </tr>\n",
       "    <tr>\n",
       "      <td>6</td>\n",
       "      <td>1069639</td>\n",
       "      <td>1304742</td>\n",
       "      <td>7000</td>\n",
       "      <td>7000</td>\n",
       "      <td>7000.0</td>\n",
       "      <td>15.96</td>\n",
       "      <td>170.08</td>\n",
       "      <td>C</td>\n",
       "      <td>C5</td>\n",
       "      <td>Southern Star Photography</td>\n",
       "      <td>...</td>\n",
       "      <td>6985.61</td>\n",
       "      <td>3125.23</td>\n",
       "      <td>0.00</td>\n",
       "      <td>0.00</td>\n",
       "      <td>0.00</td>\n",
       "      <td>May-16</td>\n",
       "      <td>1313.76</td>\n",
       "      <td>May-16</td>\n",
       "      <td>0.0</td>\n",
       "      <td>60</td>\n",
       "    </tr>\n",
       "  </tbody>\n",
       "</table>\n",
       "<p>5 rows × 44 columns</p>\n",
       "</div>"
      ],
      "text/plain": [
       "        id  member_id  loan_amnt  funded_amnt  funded_amnt_inv  int_rate  \\\n",
       "1  1077430    1314167       2500         2500           2500.0     15.27   \n",
       "3  1076863    1277178      10000        10000          10000.0     13.49   \n",
       "4  1075358    1311748       3000         3000           3000.0     12.69   \n",
       "5  1075269    1311441       5000         5000           5000.0      7.90   \n",
       "6  1069639    1304742       7000         7000           7000.0     15.96   \n",
       "\n",
       "   installment grade sub_grade                  emp_title  ...  \\\n",
       "1        59.83     C        C4                      Ryder  ...   \n",
       "3       339.31     C        C1        AIR RESOURCES BOARD  ...   \n",
       "4        67.79     B        B5   University Medical Group  ...   \n",
       "5       156.46     A        A4       Veolia Transportaton  ...   \n",
       "6       170.08     C        C5  Southern Star Photography  ...   \n",
       "\n",
       "  total_rec_prncp total_rec_int  total_rec_late_fee recoveries  \\\n",
       "1          456.46        435.17                0.00     117.08   \n",
       "3        10000.00       2214.92               16.97       0.00   \n",
       "4         2475.94       1037.39                0.00       0.00   \n",
       "5         5000.00        632.21                0.00       0.00   \n",
       "6         6985.61       3125.23                0.00       0.00   \n",
       "\n",
       "  collection_recovery_fee last_pymnt_d last_pymnt_amnt last_credit_pull_d  \\\n",
       "1                    1.11       Apr-13          119.66             Sep-13   \n",
       "3                    0.00       Jan-15          357.48             Apr-16   \n",
       "4                    0.00       May-16           67.79             May-16   \n",
       "5                    0.00       Jan-15          161.03             Jan-16   \n",
       "6                    0.00       May-16         1313.76             May-16   \n",
       "\n",
       "  pub_rec_bankruptcies term_months  \n",
       "1                  0.0          60  \n",
       "3                  0.0          36  \n",
       "4                  0.0          60  \n",
       "5                  0.0          36  \n",
       "6                  0.0          60  \n",
       "\n",
       "[5 rows x 44 columns]"
      ]
     },
     "execution_count": 180,
     "metadata": {},
     "output_type": "execute_result"
    }
   ],
   "source": [
    "loan_df.head()"
   ]
  },
  {
   "cell_type": "code",
   "execution_count": 181,
   "metadata": {},
   "outputs": [
    {
     "data": {
      "text/plain": [
       "10+ years    8407\n",
       "2 years      4178\n",
       "< 1 year     4052\n",
       "3 years      3914\n",
       "4 years      3297\n",
       "5 years      3129\n",
       "1 year       3026\n",
       "6 years      2121\n",
       "7 years      1697\n",
       "8 years      1405\n",
       "9 years      1207\n",
       "Name: emp_length, dtype: int64"
      ]
     },
     "execution_count": 181,
     "metadata": {},
     "output_type": "execute_result"
    }
   ],
   "source": [
    "# emp_length can be numeric as well\n",
    "loan_df['emp_length'].value_counts()"
   ]
  },
  {
   "cell_type": "code",
   "execution_count": 182,
   "metadata": {},
   "outputs": [
    {
     "data": {
      "text/plain": [
       "10    8407\n",
       "2     4178\n",
       "0     4052\n",
       "3     3914\n",
       "4     3297\n",
       "5     3129\n",
       "1     3026\n",
       "6     2121\n",
       "7     1697\n",
       "8     1405\n",
       "9     1207\n",
       "Name: emp_length, dtype: int64"
      ]
     },
     "execution_count": 182,
     "metadata": {},
     "output_type": "execute_result"
    }
   ],
   "source": [
    "# can give values 0 to 10: 0 for < 1 year, 10, for 10+\n",
    "# using replace method on dataframe\n",
    "replace_dict = {\n",
    "    '10+ years': 10,\n",
    "    '2 years': 2,\n",
    "    '< 1 year': 0,\n",
    "    '3 years': 3,\n",
    "    '4 years': 4,\n",
    "    '5 years': 5,\n",
    "    '6 years': 6,\n",
    "    '1 year': 1,\n",
    "    '7 years': 7,\n",
    "    '8 years': 8,\n",
    "    '9 years': 9\n",
    "}\n",
    "loan_df = loan_df.replace({\"emp_length\": replace_dict })\n",
    "loan_df['emp_length'].value_counts()"
   ]
  },
  {
   "cell_type": "code",
   "execution_count": 183,
   "metadata": {},
   "outputs": [
    {
     "name": "stdout",
     "output_type": "stream",
     "text": [
      "<class 'pandas.core.frame.DataFrame'>\n",
      "Int64Index: 36433 entries, 1 to 39680\n",
      "Data columns (total 44 columns):\n",
      "id                         36433 non-null int64\n",
      "member_id                  36433 non-null int64\n",
      "loan_amnt                  36433 non-null int64\n",
      "funded_amnt                36433 non-null int64\n",
      "funded_amnt_inv            36433 non-null float64\n",
      "int_rate                   36433 non-null float64\n",
      "installment                36433 non-null float64\n",
      "grade                      36433 non-null object\n",
      "sub_grade                  36433 non-null object\n",
      "emp_title                  36433 non-null object\n",
      "emp_length                 36433 non-null int64\n",
      "home_ownership             36433 non-null object\n",
      "annual_inc                 36433 non-null float64\n",
      "verification_status        36433 non-null object\n",
      "issue_d                    36433 non-null datetime64[ns]\n",
      "loan_status                36433 non-null object\n",
      "url                        36433 non-null object\n",
      "purpose                    36433 non-null object\n",
      "title                      36433 non-null object\n",
      "zip_code                   36433 non-null object\n",
      "addr_state                 36433 non-null object\n",
      "dti                        36433 non-null float64\n",
      "delinq_2yrs                36433 non-null int64\n",
      "earliest_cr_line           36433 non-null datetime64[ns]\n",
      "inq_last_6mths             36433 non-null int64\n",
      "open_acc                   36433 non-null int64\n",
      "pub_rec                    36433 non-null int64\n",
      "revol_bal                  36433 non-null int64\n",
      "revol_util                 36433 non-null float64\n",
      "total_acc                  36433 non-null int64\n",
      "out_prncp                  36433 non-null float64\n",
      "out_prncp_inv              36433 non-null float64\n",
      "total_pymnt                36433 non-null float64\n",
      "total_pymnt_inv            36433 non-null float64\n",
      "total_rec_prncp            36433 non-null float64\n",
      "total_rec_int              36433 non-null float64\n",
      "total_rec_late_fee         36433 non-null float64\n",
      "recoveries                 36433 non-null float64\n",
      "collection_recovery_fee    36433 non-null float64\n",
      "last_pymnt_d               36433 non-null datetime64[ns]\n",
      "last_pymnt_amnt            36433 non-null float64\n",
      "last_credit_pull_d         36433 non-null datetime64[ns]\n",
      "pub_rec_bankruptcies       36433 non-null float64\n",
      "term_months                36433 non-null int64\n",
      "dtypes: datetime64[ns](4), float64(17), int64(12), object(11)\n",
      "memory usage: 12.5+ MB\n"
     ]
    }
   ],
   "source": [
    "# object date columns: last_pymnt_d, last_credit_pull_d, earliest_cr_line, issue_d\n",
    "# converting them to datetime columns\n",
    "loan_df['last_pymnt_d'] = pd.to_datetime(loan_df['last_pymnt_d'], format='%b-%y')\n",
    "loan_df['last_credit_pull_d'] = pd.to_datetime(loan_df['last_credit_pull_d'], format='%b-%y')\n",
    "loan_df['earliest_cr_line'] = pd.to_datetime(loan_df['earliest_cr_line'], format='%b-%y')\n",
    "loan_df['issue_d'] = pd.to_datetime(loan_df['issue_d'], format='%b-%y')\n",
    "\n",
    "loan_df.info()"
   ]
  },
  {
   "cell_type": "code",
   "execution_count": 184,
   "metadata": {},
   "outputs": [],
   "source": [
    "# splitting of month and year on issue date\n",
    "loan_df['issue_d_month'] = loan_df['issue_d'].dt.month\n",
    "loan_df['issue_d_year'] = loan_df['issue_d'].dt.year"
   ]
  },
  {
   "cell_type": "code",
   "execution_count": 185,
   "metadata": {},
   "outputs": [
    {
     "data": {
      "text/plain": [
       "(36433, 46)"
      ]
     },
     "execution_count": 185,
     "metadata": {},
     "output_type": "execute_result"
    }
   ],
   "source": [
    "\n",
    "loan_df.shape"
   ]
  },
  {
   "cell_type": "code",
   "execution_count": 186,
   "metadata": {},
   "outputs": [],
   "source": [
    "# saving cleaned up file for analysis\n",
    "loan_df.to_csv('processed_loan.csv', encoding='utf-8', index=False)"
   ]
  },
  {
   "cell_type": "markdown",
   "metadata": {},
   "source": [
    "### Data Analysis"
   ]
  },
  {
   "cell_type": "code",
   "execution_count": 187,
   "metadata": {},
   "outputs": [
    {
     "data": {
      "text/plain": [
       "(36433, 46)"
      ]
     },
     "execution_count": 187,
     "metadata": {},
     "output_type": "execute_result"
    }
   ],
   "source": [
    "df = pd.read_csv('processed_loan.csv')\n",
    "df.shape"
   ]
  },
  {
   "cell_type": "code",
   "execution_count": 188,
   "metadata": {},
   "outputs": [],
   "source": [
    "# Listing Consumer behaviour columns\n",
    "behaviour_columns = ['last_pymnt_d', 'last_pymnt_amnt', 'last_credit_pull_d', 'delinq_2yrs', \n",
    "                     'earliest_cr_line', 'inq_last_6mths', 'open_acc', 'pub_rec',\n",
    "                    'total_pymnt', 'total_pymnt_inv', 'total_rec_prncp', 'total_rec_int', 'total_rec_late_fee',\n",
    "                    'revol_bal', 'revol_util', 'total_acc', 'out_prncp', 'out_prncp_inv',\n",
    "                    'recoveries', 'collection_recovery_fee']\n",
    "# Listing usued columns for analysis\n",
    "unused_columns = ['zip_code', 'addr_state', 'url']\n",
    "to_drop_columns = behaviour_columns + unused_columns"
   ]
  },
  {
   "cell_type": "code",
   "execution_count": 189,
   "metadata": {},
   "outputs": [
    {
     "data": {
      "text/plain": [
       "(36433, 23)"
      ]
     },
     "execution_count": 189,
     "metadata": {},
     "output_type": "execute_result"
    }
   ],
   "source": [
    "# droping usused columns\n",
    "df = df.drop(to_drop_columns, axis=1)\n",
    "df.shape"
   ]
  },
  {
   "cell_type": "code",
   "execution_count": 190,
   "metadata": {},
   "outputs": [
    {
     "data": {
      "text/plain": [
       "Fully Paid     30424\n",
       "Charged Off     4943\n",
       "Current         1066\n",
       "Name: loan_status, dtype: int64"
      ]
     },
     "execution_count": 190,
     "metadata": {},
     "output_type": "execute_result"
    }
   ],
   "source": [
    "df['loan_status'].value_counts()"
   ]
  },
  {
   "cell_type": "code",
   "execution_count": 191,
   "metadata": {},
   "outputs": [],
   "source": [
    "# keeping the original column before converting to numeric\n",
    "df['loan_status_raw'] = df['loan_status']"
   ]
  },
  {
   "cell_type": "code",
   "execution_count": 192,
   "metadata": {},
   "outputs": [
    {
     "data": {
      "text/plain": [
       "0        Charged Off\n",
       "1         Fully Paid\n",
       "2            Current\n",
       "3         Fully Paid\n",
       "4         Fully Paid\n",
       "            ...     \n",
       "36428     Fully Paid\n",
       "36429     Fully Paid\n",
       "36430    Charged Off\n",
       "36431    Charged Off\n",
       "36432     Fully Paid\n",
       "Name: loan_status_raw, Length: 36433, dtype: object"
      ]
     },
     "execution_count": 192,
     "metadata": {},
     "output_type": "execute_result"
    }
   ],
   "source": [
    "df['loan_status_raw']"
   ]
  },
  {
   "cell_type": "code",
   "execution_count": 193,
   "metadata": {},
   "outputs": [
    {
     "data": {
      "text/plain": [
       "0        1\n",
       "1        0\n",
       "3        0\n",
       "4        0\n",
       "5        0\n",
       "        ..\n",
       "36428    0\n",
       "36429    0\n",
       "36430    1\n",
       "36431    1\n",
       "36432    0\n",
       "Name: loan_status, Length: 35367, dtype: int64"
      ]
     },
     "execution_count": 193,
     "metadata": {},
     "output_type": "execute_result"
    }
   ],
   "source": [
    "# Filtering only Fully Paid and Charged Off loans, converting them to numeric\n",
    "df = df.loc[df['loan_status'] != 'Current', :]\n",
    "df['loan_status'] = df['loan_status'].apply(lambda x: 1 if x=='Charged Off' else 0)\n",
    "df['loan_status']"
   ]
  },
  {
   "cell_type": "code",
   "execution_count": 194,
   "metadata": {},
   "outputs": [
    {
     "data": {
      "text/plain": [
       "0    30424\n",
       "1     4943\n",
       "Name: loan_status, dtype: int64"
      ]
     },
     "execution_count": 194,
     "metadata": {},
     "output_type": "execute_result"
    }
   ],
   "source": [
    "df['loan_status'].value_counts()"
   ]
  },
  {
   "cell_type": "markdown",
   "metadata": {},
   "source": [
    "#### The aim is to identify patterns which indicate if a person is likely to default\n",
    "EDA to understand how consumer attributes and loan attributes influence the tendency of default. <br>\n",
    "Consumer behaviour might be irrelevant for our analysis. <br>\n",
    "Target column will be loan_status = 'Fully Paid' or 'Charged Off'."
   ]
  },
  {
   "cell_type": "code",
   "execution_count": 195,
   "metadata": {},
   "outputs": [
    {
     "data": {
      "text/plain": [
       "count    35367.000000\n",
       "mean         0.139763\n",
       "std          0.346746\n",
       "min          0.000000\n",
       "25%          0.000000\n",
       "50%          0.000000\n",
       "75%          0.000000\n",
       "max          1.000000\n",
       "Name: loan_status, dtype: float64"
      ]
     },
     "execution_count": 195,
     "metadata": {},
     "output_type": "execute_result"
    }
   ],
   "source": [
    "df['loan_status'].describe()"
   ]
  },
  {
   "cell_type": "markdown",
   "metadata": {},
   "source": [
    "Around 14% of the loans are charged off"
   ]
  },
  {
   "cell_type": "code",
   "execution_count": 196,
   "metadata": {},
   "outputs": [
    {
     "name": "stdout",
     "output_type": "stream",
     "text": [
      "<class 'pandas.core.frame.DataFrame'>\n",
      "Int64Index: 35367 entries, 0 to 36432\n",
      "Data columns (total 24 columns):\n",
      "id                      35367 non-null int64\n",
      "member_id               35367 non-null int64\n",
      "loan_amnt               35367 non-null int64\n",
      "funded_amnt             35367 non-null int64\n",
      "funded_amnt_inv         35367 non-null float64\n",
      "int_rate                35367 non-null float64\n",
      "installment             35367 non-null float64\n",
      "grade                   35367 non-null object\n",
      "sub_grade               35367 non-null object\n",
      "emp_title               35367 non-null object\n",
      "emp_length              35367 non-null int64\n",
      "home_ownership          35367 non-null object\n",
      "annual_inc              35367 non-null float64\n",
      "verification_status     35367 non-null object\n",
      "issue_d                 35367 non-null object\n",
      "loan_status             35367 non-null int64\n",
      "purpose                 35367 non-null object\n",
      "title                   35367 non-null object\n",
      "dti                     35367 non-null float64\n",
      "pub_rec_bankruptcies    35367 non-null float64\n",
      "term_months             35367 non-null int64\n",
      "issue_d_month           35367 non-null int64\n",
      "issue_d_year            35367 non-null int64\n",
      "loan_status_raw         35367 non-null object\n",
      "dtypes: float64(6), int64(9), object(9)\n",
      "memory usage: 6.7+ MB\n"
     ]
    }
   ],
   "source": [
    "df.info()"
   ]
  },
  {
   "cell_type": "code",
   "execution_count": 197,
   "metadata": {},
   "outputs": [
    {
     "name": "stdout",
     "output_type": "stream",
     "text": [
      "<class 'pandas.core.frame.DataFrame'>\n",
      "Int64Index: 35367 entries, 0 to 36432\n",
      "Data columns (total 21 columns):\n",
      "loan_amnt               35367 non-null int64\n",
      "funded_amnt             35367 non-null int64\n",
      "funded_amnt_inv         35367 non-null float64\n",
      "int_rate                35367 non-null float64\n",
      "installment             35367 non-null float64\n",
      "grade                   35367 non-null object\n",
      "sub_grade               35367 non-null object\n",
      "emp_title               35367 non-null object\n",
      "emp_length              35367 non-null int64\n",
      "home_ownership          35367 non-null object\n",
      "annual_inc              35367 non-null float64\n",
      "verification_status     35367 non-null object\n",
      "issue_d                 35367 non-null object\n",
      "loan_status             35367 non-null int64\n",
      "purpose                 35367 non-null object\n",
      "dti                     35367 non-null float64\n",
      "pub_rec_bankruptcies    35367 non-null float64\n",
      "term_months             35367 non-null int64\n",
      "issue_d_month           35367 non-null int64\n",
      "issue_d_year            35367 non-null int64\n",
      "loan_status_raw         35367 non-null object\n",
      "dtypes: float64(6), int64(7), object(8)\n",
      "memory usage: 5.9+ MB\n"
     ]
    }
   ],
   "source": [
    "# id and member_id are insignificant columns. can remove them.\n",
    "# title can be ignored too as purpose column drives our analysis better\n",
    "df = df.drop(['id', 'member_id', 'title'], axis=1)\n",
    "df.info()"
   ]
  },
  {
   "cell_type": "markdown",
   "metadata": {},
   "source": [
    "### Univariate analysis"
   ]
  },
  {
   "cell_type": "code",
   "execution_count": 198,
   "metadata": {
    "scrolled": false
   },
   "outputs": [
    {
     "data": {
      "text/html": [
       "<div>\n",
       "<style scoped>\n",
       "    .dataframe tbody tr th:only-of-type {\n",
       "        vertical-align: middle;\n",
       "    }\n",
       "\n",
       "    .dataframe tbody tr th {\n",
       "        vertical-align: top;\n",
       "    }\n",
       "\n",
       "    .dataframe thead th {\n",
       "        text-align: right;\n",
       "    }\n",
       "</style>\n",
       "<table border=\"1\" class=\"dataframe\">\n",
       "  <thead>\n",
       "    <tr style=\"text-align: right;\">\n",
       "      <th>loan_status_raw</th>\n",
       "      <th>Charged Off</th>\n",
       "      <th>Fully Paid</th>\n",
       "    </tr>\n",
       "    <tr>\n",
       "      <th>grade</th>\n",
       "      <th></th>\n",
       "      <th></th>\n",
       "    </tr>\n",
       "  </thead>\n",
       "  <tbody>\n",
       "    <tr>\n",
       "      <td>A</td>\n",
       "      <td>0.056127</td>\n",
       "      <td>0.943873</td>\n",
       "    </tr>\n",
       "    <tr>\n",
       "      <td>B</td>\n",
       "      <td>0.116906</td>\n",
       "      <td>0.883094</td>\n",
       "    </tr>\n",
       "    <tr>\n",
       "      <td>C</td>\n",
       "      <td>0.162930</td>\n",
       "      <td>0.837070</td>\n",
       "    </tr>\n",
       "    <tr>\n",
       "      <td>D</td>\n",
       "      <td>0.210165</td>\n",
       "      <td>0.789835</td>\n",
       "    </tr>\n",
       "    <tr>\n",
       "      <td>E</td>\n",
       "      <td>0.261185</td>\n",
       "      <td>0.738815</td>\n",
       "    </tr>\n",
       "    <tr>\n",
       "      <td>F</td>\n",
       "      <td>0.317073</td>\n",
       "      <td>0.682927</td>\n",
       "    </tr>\n",
       "    <tr>\n",
       "      <td>G</td>\n",
       "      <td>0.329787</td>\n",
       "      <td>0.670213</td>\n",
       "    </tr>\n",
       "    <tr>\n",
       "      <td>Total</td>\n",
       "      <td>0.139763</td>\n",
       "      <td>0.860237</td>\n",
       "    </tr>\n",
       "  </tbody>\n",
       "</table>\n",
       "</div>"
      ],
      "text/plain": [
       "loan_status_raw  Charged Off  Fully Paid\n",
       "grade                                   \n",
       "A                   0.056127    0.943873\n",
       "B                   0.116906    0.883094\n",
       "C                   0.162930    0.837070\n",
       "D                   0.210165    0.789835\n",
       "E                   0.261185    0.738815\n",
       "F                   0.317073    0.682927\n",
       "G                   0.329787    0.670213\n",
       "Total               0.139763    0.860237"
      ]
     },
     "execution_count": 198,
     "metadata": {},
     "output_type": "execute_result"
    }
   ],
   "source": [
    "# crosstab between loan status and grade\n",
    "pd.crosstab(df.grade, df.loan_status_raw, margins=True, margins_name=\"Total\", normalize=\"index\")"
   ]
  },
  {
   "cell_type": "code",
   "execution_count": 199,
   "metadata": {
    "scrolled": false
   },
   "outputs": [
    {
     "data": {
      "image/png": "[encoded data removed]",
      "text/plain": [
       "<Figure size 432x288 with 1 Axes>"
      ]
     },
     "metadata": {
      "needs_background": "light"
     },
     "output_type": "display_data"
    }
   ],
   "source": [
    "# bar plot on categorical variable : grade\n",
    "sns.barplot(x='grade', y='loan_status', data=df)\n",
    "plt.show()"
   ]
  },
  {
   "cell_type": "markdown",
   "metadata": {},
   "source": [
    "Grade E 26%, F 31% and G 32.9% are TOP 3 defaulters."
   ]
  },
  {
   "cell_type": "code",
   "execution_count": 200,
   "metadata": {},
   "outputs": [
    {
     "data": {
      "text/html": [
       "<div>\n",
       "<style scoped>\n",
       "    .dataframe tbody tr th:only-of-type {\n",
       "        vertical-align: middle;\n",
       "    }\n",
       "\n",
       "    .dataframe tbody tr th {\n",
       "        vertical-align: top;\n",
       "    }\n",
       "\n",
       "    .dataframe thead th {\n",
       "        text-align: right;\n",
       "    }\n",
       "</style>\n",
       "<table border=\"1\" class=\"dataframe\">\n",
       "  <thead>\n",
       "    <tr style=\"text-align: right;\">\n",
       "      <th>loan_status_raw</th>\n",
       "      <th>Charged Off</th>\n",
       "      <th>Fully Paid</th>\n",
       "    </tr>\n",
       "    <tr>\n",
       "      <th>term_months</th>\n",
       "      <th></th>\n",
       "      <th></th>\n",
       "    </tr>\n",
       "  </thead>\n",
       "  <tbody>\n",
       "    <tr>\n",
       "      <td>36</td>\n",
       "      <td>0.103499</td>\n",
       "      <td>0.896501</td>\n",
       "    </tr>\n",
       "    <tr>\n",
       "      <td>60</td>\n",
       "      <td>0.246162</td>\n",
       "      <td>0.753838</td>\n",
       "    </tr>\n",
       "    <tr>\n",
       "      <td>Total</td>\n",
       "      <td>0.139763</td>\n",
       "      <td>0.860237</td>\n",
       "    </tr>\n",
       "  </tbody>\n",
       "</table>\n",
       "</div>"
      ],
      "text/plain": [
       "loan_status_raw  Charged Off  Fully Paid\n",
       "term_months                             \n",
       "36                  0.103499    0.896501\n",
       "60                  0.246162    0.753838\n",
       "Total               0.139763    0.860237"
      ]
     },
     "execution_count": 200,
     "metadata": {},
     "output_type": "execute_result"
    }
   ],
   "source": [
    "# crosstab between month term and loan status. Showing percentage of defaults\n",
    "pd.crosstab(df.term_months, df.loan_status_raw, margins=True, margins_name=\"Total\", normalize=\"index\")"
   ]
  },
  {
   "cell_type": "code",
   "execution_count": 201,
   "metadata": {},
   "outputs": [
    {
     "data": {
      "image/png": "[encoded data removed]",
      "text/plain": [
       "<Figure size 432x288 with 1 Axes>"
      ]
     },
     "metadata": {
      "needs_background": "light"
     },
     "output_type": "display_data"
    }
   ],
   "source": [
    "# bar plot on categorical variable : term_months\n",
    "sns.barplot(x='term_months', y='loan_status', data=df)\n",
    "plt.show()"
   ]
  },
  {
   "cell_type": "markdown",
   "metadata": {},
   "source": [
    "Overall 60 months loan term tends to default more than twice as compared to 36 months."
   ]
  },
  {
   "cell_type": "code",
   "execution_count": 202,
   "metadata": {},
   "outputs": [
    {
     "data": {
      "text/html": [
       "<div>\n",
       "<style scoped>\n",
       "    .dataframe tbody tr th:only-of-type {\n",
       "        vertical-align: middle;\n",
       "    }\n",
       "\n",
       "    .dataframe tbody tr th {\n",
       "        vertical-align: top;\n",
       "    }\n",
       "\n",
       "    .dataframe thead th {\n",
       "        text-align: right;\n",
       "    }\n",
       "</style>\n",
       "<table border=\"1\" class=\"dataframe\">\n",
       "  <thead>\n",
       "    <tr style=\"text-align: right;\">\n",
       "      <th>issue_d_year</th>\n",
       "      <th>2007</th>\n",
       "      <th>2008</th>\n",
       "      <th>2009</th>\n",
       "      <th>2010</th>\n",
       "      <th>2011</th>\n",
       "      <th>Total</th>\n",
       "    </tr>\n",
       "    <tr>\n",
       "      <th>loan_status_raw</th>\n",
       "      <th></th>\n",
       "      <th></th>\n",
       "      <th></th>\n",
       "      <th></th>\n",
       "      <th></th>\n",
       "      <th></th>\n",
       "    </tr>\n",
       "  </thead>\n",
       "  <tbody>\n",
       "    <tr>\n",
       "      <td>Charged Off</td>\n",
       "      <td>2</td>\n",
       "      <td>160</td>\n",
       "      <td>541</td>\n",
       "      <td>1309</td>\n",
       "      <td>2931</td>\n",
       "      <td>4943</td>\n",
       "    </tr>\n",
       "    <tr>\n",
       "      <td>Fully Paid</td>\n",
       "      <td>4</td>\n",
       "      <td>893</td>\n",
       "      <td>3882</td>\n",
       "      <td>9486</td>\n",
       "      <td>16159</td>\n",
       "      <td>30424</td>\n",
       "    </tr>\n",
       "    <tr>\n",
       "      <td>Total</td>\n",
       "      <td>6</td>\n",
       "      <td>1053</td>\n",
       "      <td>4423</td>\n",
       "      <td>10795</td>\n",
       "      <td>19090</td>\n",
       "      <td>35367</td>\n",
       "    </tr>\n",
       "  </tbody>\n",
       "</table>\n",
       "</div>"
      ],
      "text/plain": [
       "issue_d_year     2007  2008  2009   2010   2011  Total\n",
       "loan_status_raw                                       \n",
       "Charged Off         2   160   541   1309   2931   4943\n",
       "Fully Paid          4   893  3882   9486  16159  30424\n",
       "Total               6  1053  4423  10795  19090  35367"
      ]
     },
     "execution_count": 202,
     "metadata": {},
     "output_type": "execute_result"
    }
   ],
   "source": [
    "# crosstab between loan status and issue year\n",
    "pd.crosstab(df.loan_status_raw, df.issue_d_year, margins=True, margins_name=\"Total\")"
   ]
  },
  {
   "cell_type": "code",
   "execution_count": 203,
   "metadata": {},
   "outputs": [
    {
     "data": {
      "image/png": "[encoded data removed]",
      "text/plain": [
       "<Figure size 432x288 with 1 Axes>"
      ]
     },
     "metadata": {
      "needs_background": "light"
     },
     "output_type": "display_data"
    }
   ],
   "source": [
    "## bar plot on categorical variable : issue_d_year\n",
    "sns.barplot(x='issue_d_year', y='loan_status', data=df, estimator=sum)\n",
    "plt.show()"
   ]
  },
  {
   "cell_type": "markdown",
   "metadata": {},
   "source": [
    "There's an increase in default rate over the years."
   ]
  },
  {
   "cell_type": "code",
   "execution_count": 204,
   "metadata": {},
   "outputs": [
    {
     "data": {
      "text/html": [
       "<div>\n",
       "<style scoped>\n",
       "    .dataframe tbody tr th:only-of-type {\n",
       "        vertical-align: middle;\n",
       "    }\n",
       "\n",
       "    .dataframe tbody tr th {\n",
       "        vertical-align: top;\n",
       "    }\n",
       "\n",
       "    .dataframe thead th {\n",
       "        text-align: right;\n",
       "    }\n",
       "</style>\n",
       "<table border=\"1\" class=\"dataframe\">\n",
       "  <thead>\n",
       "    <tr style=\"text-align: right;\">\n",
       "      <th>loan_status_raw</th>\n",
       "      <th>Charged Off</th>\n",
       "      <th>Fully Paid</th>\n",
       "    </tr>\n",
       "    <tr>\n",
       "      <th>purpose</th>\n",
       "      <th></th>\n",
       "      <th></th>\n",
       "    </tr>\n",
       "  </thead>\n",
       "  <tbody>\n",
       "    <tr>\n",
       "      <td>car</td>\n",
       "      <td>0.106810</td>\n",
       "      <td>0.893190</td>\n",
       "    </tr>\n",
       "    <tr>\n",
       "      <td>credit_card</td>\n",
       "      <td>0.103545</td>\n",
       "      <td>0.896455</td>\n",
       "    </tr>\n",
       "    <tr>\n",
       "      <td>debt_consolidation</td>\n",
       "      <td>0.148365</td>\n",
       "      <td>0.851635</td>\n",
       "    </tr>\n",
       "    <tr>\n",
       "      <td>educational</td>\n",
       "      <td>0.163043</td>\n",
       "      <td>0.836957</td>\n",
       "    </tr>\n",
       "    <tr>\n",
       "      <td>home_improvement</td>\n",
       "      <td>0.113236</td>\n",
       "      <td>0.886764</td>\n",
       "    </tr>\n",
       "    <tr>\n",
       "      <td>house</td>\n",
       "      <td>0.157576</td>\n",
       "      <td>0.842424</td>\n",
       "    </tr>\n",
       "    <tr>\n",
       "      <td>major_purchase</td>\n",
       "      <td>0.096300</td>\n",
       "      <td>0.903700</td>\n",
       "    </tr>\n",
       "    <tr>\n",
       "      <td>medical</td>\n",
       "      <td>0.152733</td>\n",
       "      <td>0.847267</td>\n",
       "    </tr>\n",
       "    <tr>\n",
       "      <td>moving</td>\n",
       "      <td>0.151052</td>\n",
       "      <td>0.848948</td>\n",
       "    </tr>\n",
       "    <tr>\n",
       "      <td>other</td>\n",
       "      <td>0.157712</td>\n",
       "      <td>0.842288</td>\n",
       "    </tr>\n",
       "    <tr>\n",
       "      <td>renewable_energy</td>\n",
       "      <td>0.172414</td>\n",
       "      <td>0.827586</td>\n",
       "    </tr>\n",
       "    <tr>\n",
       "      <td>small_business</td>\n",
       "      <td>0.263509</td>\n",
       "      <td>0.736491</td>\n",
       "    </tr>\n",
       "    <tr>\n",
       "      <td>vacation</td>\n",
       "      <td>0.147590</td>\n",
       "      <td>0.852410</td>\n",
       "    </tr>\n",
       "    <tr>\n",
       "      <td>wedding</td>\n",
       "      <td>0.095954</td>\n",
       "      <td>0.904046</td>\n",
       "    </tr>\n",
       "    <tr>\n",
       "      <td>Total</td>\n",
       "      <td>0.139763</td>\n",
       "      <td>0.860237</td>\n",
       "    </tr>\n",
       "  </tbody>\n",
       "</table>\n",
       "</div>"
      ],
      "text/plain": [
       "loan_status_raw     Charged Off  Fully Paid\n",
       "purpose                                    \n",
       "car                    0.106810    0.893190\n",
       "credit_card            0.103545    0.896455\n",
       "debt_consolidation     0.148365    0.851635\n",
       "educational            0.163043    0.836957\n",
       "home_improvement       0.113236    0.886764\n",
       "house                  0.157576    0.842424\n",
       "major_purchase         0.096300    0.903700\n",
       "medical                0.152733    0.847267\n",
       "moving                 0.151052    0.848948\n",
       "other                  0.157712    0.842288\n",
       "renewable_energy       0.172414    0.827586\n",
       "small_business         0.263509    0.736491\n",
       "vacation               0.147590    0.852410\n",
       "wedding                0.095954    0.904046\n",
       "Total                  0.139763    0.860237"
      ]
     },
     "execution_count": 204,
     "metadata": {},
     "output_type": "execute_result"
    }
   ],
   "source": [
    "# crosstab between purpose and loan_status\n",
    "pd.crosstab(df.purpose, df.loan_status_raw, margins=True, margins_name=\"Total\", normalize=\"index\")"
   ]
  },
  {
   "cell_type": "code",
   "execution_count": 205,
   "metadata": {
    "scrolled": true
   },
   "outputs": [
    {
     "data": {
      "image/png": "[encoded data removed]",
      "text/plain": [
       "<Figure size 1440x360 with 1 Axes>"
      ]
     },
     "metadata": {
      "needs_background": "light"
     },
     "output_type": "display_data"
    }
   ],
   "source": [
    "## bar plot on categorical variable : purpose\n",
    "plt.figure(figsize=(20,5))\n",
    "sns.barplot(x='purpose', y='loan_status', data=df)\n",
    "plt.show()"
   ]
  },
  {
   "cell_type": "markdown",
   "metadata": {},
   "source": [
    "Clients having small_business as purpose defaults the most followed by renewable_energy and house."
   ]
  },
  {
   "cell_type": "code",
   "execution_count": 206,
   "metadata": {
    "scrolled": true
   },
   "outputs": [
    {
     "data": {
      "image/png": "[encoded data removed]",
      "text/plain": [
       "<Figure size 432x288 with 1 Axes>"
      ]
     },
     "metadata": {
      "needs_background": "light"
     },
     "output_type": "display_data"
    }
   ],
   "source": [
    "## bar plot on categorical variable : home_ownership\n",
    "sns.barplot(x='home_ownership', y='loan_status', data=df)\n",
    "plt.show()"
   ]
  },
  {
   "cell_type": "markdown",
   "metadata": {},
   "source": [
    "Clients having OTHER as home ownership could be considered under High Risk Category."
   ]
  },
  {
   "cell_type": "code",
   "execution_count": 207,
   "metadata": {},
   "outputs": [
    {
     "data": {
      "image/png": "[encoded data removed]",
      "text/plain": [
       "<Figure size 432x288 with 1 Axes>"
      ]
     },
     "metadata": {
      "needs_background": "light"
     },
     "output_type": "display_data"
    }
   ],
   "source": [
    "## bar plot on categorical variable : verification_status\n",
    "sns.barplot(x='verification_status', y='loan_status', data=df)\n",
    "plt.show()"
   ]
  },
  {
   "cell_type": "markdown",
   "metadata": {},
   "source": [
    "Verified loans defaults the most. It shows the company didn't do due-dilligence while verifying their clients."
   ]
  },
  {
   "cell_type": "code",
   "execution_count": 208,
   "metadata": {
    "scrolled": true
   },
   "outputs": [
    {
     "data": {
      "text/html": [
       "<div>\n",
       "<style scoped>\n",
       "    .dataframe tbody tr th:only-of-type {\n",
       "        vertical-align: middle;\n",
       "    }\n",
       "\n",
       "    .dataframe tbody tr th {\n",
       "        vertical-align: top;\n",
       "    }\n",
       "\n",
       "    .dataframe thead th {\n",
       "        text-align: right;\n",
       "    }\n",
       "</style>\n",
       "<table border=\"1\" class=\"dataframe\">\n",
       "  <thead>\n",
       "    <tr style=\"text-align: right;\">\n",
       "      <th>emp_length</th>\n",
       "      <th>0</th>\n",
       "      <th>1</th>\n",
       "      <th>2</th>\n",
       "      <th>3</th>\n",
       "      <th>4</th>\n",
       "      <th>5</th>\n",
       "      <th>6</th>\n",
       "      <th>7</th>\n",
       "      <th>8</th>\n",
       "      <th>9</th>\n",
       "      <th>10</th>\n",
       "    </tr>\n",
       "    <tr>\n",
       "      <th>loan_status_raw</th>\n",
       "      <th></th>\n",
       "      <th></th>\n",
       "      <th></th>\n",
       "      <th></th>\n",
       "      <th></th>\n",
       "      <th></th>\n",
       "      <th></th>\n",
       "      <th></th>\n",
       "      <th></th>\n",
       "      <th></th>\n",
       "      <th></th>\n",
       "    </tr>\n",
       "  </thead>\n",
       "  <tbody>\n",
       "    <tr>\n",
       "      <td>Charged Off</td>\n",
       "      <td>0.107222</td>\n",
       "      <td>0.082541</td>\n",
       "      <td>0.107020</td>\n",
       "      <td>0.105402</td>\n",
       "      <td>0.086385</td>\n",
       "      <td>0.085373</td>\n",
       "      <td>0.058062</td>\n",
       "      <td>0.050172</td>\n",
       "      <td>0.038641</td>\n",
       "      <td>0.029739</td>\n",
       "      <td>0.249444</td>\n",
       "    </tr>\n",
       "    <tr>\n",
       "      <td>Fully Paid</td>\n",
       "      <td>0.113332</td>\n",
       "      <td>0.083848</td>\n",
       "      <td>0.116816</td>\n",
       "      <td>0.108861</td>\n",
       "      <td>0.091342</td>\n",
       "      <td>0.086149</td>\n",
       "      <td>0.058342</td>\n",
       "      <td>0.045688</td>\n",
       "      <td>0.038456</td>\n",
       "      <td>0.033822</td>\n",
       "      <td>0.223343</td>\n",
       "    </tr>\n",
       "    <tr>\n",
       "      <td>Total</td>\n",
       "      <td>0.112478</td>\n",
       "      <td>0.083666</td>\n",
       "      <td>0.115447</td>\n",
       "      <td>0.108378</td>\n",
       "      <td>0.090649</td>\n",
       "      <td>0.086041</td>\n",
       "      <td>0.058303</td>\n",
       "      <td>0.046314</td>\n",
       "      <td>0.038482</td>\n",
       "      <td>0.033251</td>\n",
       "      <td>0.226991</td>\n",
       "    </tr>\n",
       "  </tbody>\n",
       "</table>\n",
       "</div>"
      ],
      "text/plain": [
       "emp_length             0         1         2         3         4         5   \\\n",
       "loan_status_raw                                                               \n",
       "Charged Off      0.107222  0.082541  0.107020  0.105402  0.086385  0.085373   \n",
       "Fully Paid       0.113332  0.083848  0.116816  0.108861  0.091342  0.086149   \n",
       "Total            0.112478  0.083666  0.115447  0.108378  0.090649  0.086041   \n",
       "\n",
       "emp_length             6         7         8         9         10  \n",
       "loan_status_raw                                                    \n",
       "Charged Off      0.058062  0.050172  0.038641  0.029739  0.249444  \n",
       "Fully Paid       0.058342  0.045688  0.038456  0.033822  0.223343  \n",
       "Total            0.058303  0.046314  0.038482  0.033251  0.226991  "
      ]
     },
     "execution_count": 208,
     "metadata": {},
     "output_type": "execute_result"
    }
   ],
   "source": [
    "pd.crosstab(df.loan_status_raw, df.emp_length, margins=True, margins_name=\"Total\", normalize=\"index\")"
   ]
  },
  {
   "cell_type": "code",
   "execution_count": 209,
   "metadata": {},
   "outputs": [
    {
     "data": {
      "image/png": "[encoded data removed]",
      "text/plain": [
       "<Figure size 1440x360 with 1 Axes>"
      ]
     },
     "metadata": {
      "needs_background": "light"
     },
     "output_type": "display_data"
    }
   ],
   "source": [
    "## bar plot on categorical variable : emp_length\n",
    "plt.figure(figsize=(20,5))\n",
    "sns.barplot(x='emp_length', y='loan_status', data=df, estimator=sum)\n",
    "plt.show()"
   ]
  },
  {
   "cell_type": "markdown",
   "metadata": {},
   "source": [
    "Most stable employees tend to default most. Employment length is not much of a differentiator between 0 to 5 yrs"
   ]
  },
  {
   "cell_type": "code",
   "execution_count": 210,
   "metadata": {},
   "outputs": [
    {
     "data": {
      "text/plain": [
       "count    35367.000000\n",
       "mean        11.983468\n",
       "std          3.702512\n",
       "min          5.420000\n",
       "25%          8.940000\n",
       "50%         11.830000\n",
       "75%         14.460000\n",
       "max         24.400000\n",
       "Name: int_rate, dtype: float64"
      ]
     },
     "execution_count": 210,
     "metadata": {},
     "output_type": "execute_result"
    }
   ],
   "source": [
    "df['int_rate'].describe()"
   ]
  },
  {
   "cell_type": "code",
   "execution_count": 211,
   "metadata": {},
   "outputs": [
    {
     "data": {
      "text/plain": [
       "10-15    16769\n",
       "5-10     11101\n",
       "15-20     6769\n",
       "20-25      728\n",
       "25-30        0\n",
       "0-5          0\n",
       "Name: int_rate_bin, dtype: int64"
      ]
     },
     "execution_count": 211,
     "metadata": {},
     "output_type": "execute_result"
    }
   ],
   "source": [
    "# binning int_rate\n",
    "df['int_rate_bin'] = pd.cut(df['int_rate'], \n",
    "                                [0,5,10,15,20,25,30], \n",
    "                                labels=['0-5','5-10','10-15','15-20','20-25','25-30'])\n",
    "df['int_rate_bin'].value_counts()"
   ]
  },
  {
   "cell_type": "code",
   "execution_count": 212,
   "metadata": {},
   "outputs": [
    {
     "data": {
      "text/html": [
       "<div>\n",
       "<style scoped>\n",
       "    .dataframe tbody tr th:only-of-type {\n",
       "        vertical-align: middle;\n",
       "    }\n",
       "\n",
       "    .dataframe tbody tr th {\n",
       "        vertical-align: top;\n",
       "    }\n",
       "\n",
       "    .dataframe thead th {\n",
       "        text-align: right;\n",
       "    }\n",
       "</style>\n",
       "<table border=\"1\" class=\"dataframe\">\n",
       "  <thead>\n",
       "    <tr style=\"text-align: right;\">\n",
       "      <th>int_rate_bin</th>\n",
       "      <th>5-10</th>\n",
       "      <th>10-15</th>\n",
       "      <th>15-20</th>\n",
       "      <th>20-25</th>\n",
       "    </tr>\n",
       "    <tr>\n",
       "      <th>purpose</th>\n",
       "      <th></th>\n",
       "      <th></th>\n",
       "      <th></th>\n",
       "      <th></th>\n",
       "    </tr>\n",
       "  </thead>\n",
       "  <tbody>\n",
       "    <tr>\n",
       "      <td>car</td>\n",
       "      <td>47.0</td>\n",
       "      <td>40.0</td>\n",
       "      <td>12.0</td>\n",
       "      <td>0.0</td>\n",
       "    </tr>\n",
       "    <tr>\n",
       "      <td>credit_card</td>\n",
       "      <td>34.0</td>\n",
       "      <td>49.0</td>\n",
       "      <td>16.0</td>\n",
       "      <td>2.0</td>\n",
       "    </tr>\n",
       "    <tr>\n",
       "      <td>debt_consolidation</td>\n",
       "      <td>27.0</td>\n",
       "      <td>49.0</td>\n",
       "      <td>22.0</td>\n",
       "      <td>3.0</td>\n",
       "    </tr>\n",
       "    <tr>\n",
       "      <td>educational</td>\n",
       "      <td>27.0</td>\n",
       "      <td>64.0</td>\n",
       "      <td>9.0</td>\n",
       "      <td>0.0</td>\n",
       "    </tr>\n",
       "    <tr>\n",
       "      <td>home_improvement</td>\n",
       "      <td>39.0</td>\n",
       "      <td>44.0</td>\n",
       "      <td>16.0</td>\n",
       "      <td>2.0</td>\n",
       "    </tr>\n",
       "    <tr>\n",
       "      <td>house</td>\n",
       "      <td>32.0</td>\n",
       "      <td>41.0</td>\n",
       "      <td>23.0</td>\n",
       "      <td>3.0</td>\n",
       "    </tr>\n",
       "    <tr>\n",
       "      <td>major_purchase</td>\n",
       "      <td>44.0</td>\n",
       "      <td>42.0</td>\n",
       "      <td>14.0</td>\n",
       "      <td>1.0</td>\n",
       "    </tr>\n",
       "    <tr>\n",
       "      <td>medical</td>\n",
       "      <td>35.0</td>\n",
       "      <td>46.0</td>\n",
       "      <td>17.0</td>\n",
       "      <td>1.0</td>\n",
       "    </tr>\n",
       "    <tr>\n",
       "      <td>moving</td>\n",
       "      <td>35.0</td>\n",
       "      <td>47.0</td>\n",
       "      <td>16.0</td>\n",
       "      <td>2.0</td>\n",
       "    </tr>\n",
       "    <tr>\n",
       "      <td>other</td>\n",
       "      <td>32.0</td>\n",
       "      <td>50.0</td>\n",
       "      <td>17.0</td>\n",
       "      <td>1.0</td>\n",
       "    </tr>\n",
       "    <tr>\n",
       "      <td>renewable_energy</td>\n",
       "      <td>38.0</td>\n",
       "      <td>41.0</td>\n",
       "      <td>18.0</td>\n",
       "      <td>2.0</td>\n",
       "    </tr>\n",
       "    <tr>\n",
       "      <td>small_business</td>\n",
       "      <td>24.0</td>\n",
       "      <td>44.0</td>\n",
       "      <td>27.0</td>\n",
       "      <td>5.0</td>\n",
       "    </tr>\n",
       "    <tr>\n",
       "      <td>vacation</td>\n",
       "      <td>42.0</td>\n",
       "      <td>44.0</td>\n",
       "      <td>13.0</td>\n",
       "      <td>1.0</td>\n",
       "    </tr>\n",
       "    <tr>\n",
       "      <td>wedding</td>\n",
       "      <td>32.0</td>\n",
       "      <td>49.0</td>\n",
       "      <td>17.0</td>\n",
       "      <td>2.0</td>\n",
       "    </tr>\n",
       "    <tr>\n",
       "      <td>Total</td>\n",
       "      <td>31.0</td>\n",
       "      <td>47.0</td>\n",
       "      <td>19.0</td>\n",
       "      <td>2.0</td>\n",
       "    </tr>\n",
       "  </tbody>\n",
       "</table>\n",
       "</div>"
      ],
      "text/plain": [
       "int_rate_bin        5-10  10-15  15-20  20-25\n",
       "purpose                                      \n",
       "car                 47.0   40.0   12.0    0.0\n",
       "credit_card         34.0   49.0   16.0    2.0\n",
       "debt_consolidation  27.0   49.0   22.0    3.0\n",
       "educational         27.0   64.0    9.0    0.0\n",
       "home_improvement    39.0   44.0   16.0    2.0\n",
       "house               32.0   41.0   23.0    3.0\n",
       "major_purchase      44.0   42.0   14.0    1.0\n",
       "medical             35.0   46.0   17.0    1.0\n",
       "moving              35.0   47.0   16.0    2.0\n",
       "other               32.0   50.0   17.0    1.0\n",
       "renewable_energy    38.0   41.0   18.0    2.0\n",
       "small_business      24.0   44.0   27.0    5.0\n",
       "vacation            42.0   44.0   13.0    1.0\n",
       "wedding             32.0   49.0   17.0    2.0\n",
       "Total               31.0   47.0   19.0    2.0"
      ]
     },
     "execution_count": 212,
     "metadata": {},
     "output_type": "execute_result"
    }
   ],
   "source": [
    "pd.crosstab(df.purpose, df.int_rate_bin, margins=True, margins_name=\"Total\", normalize=\"index\").apply(lambda r: round(100*(r/r.sum())), axis=1)"
   ]
  },
  {
   "cell_type": "code",
   "execution_count": 213,
   "metadata": {
    "scrolled": true
   },
   "outputs": [
    {
     "data": {
      "text/plain": [
       "<function matplotlib.pyplot.show(*args, **kw)>"
      ]
     },
     "execution_count": 213,
     "metadata": {},
     "output_type": "execute_result"
    },
    {
     "data": {
      "image/png": "[encoded data removed]",
      "text/plain": [
       "<Figure size 1440x720 with 1 Axes>"
      ]
     },
     "metadata": {
      "needs_background": "light"
     },
     "output_type": "display_data"
    }
   ],
   "source": [
    "# Box plot between the loan purpose and interest rate offered\n",
    "plt.figure(figsize=(20, 10))\n",
    "sns.boxplot(x='purpose', y='int_rate', data=df)\n",
    "plt.show"
   ]
  },
  {
   "cell_type": "markdown",
   "metadata": {},
   "source": [
    "Small Business, House and Debt Consolidation are considered as high risk loan purpose and hence offered more interest rates."
   ]
  },
  {
   "cell_type": "markdown",
   "metadata": {},
   "source": [
    "#### Binning continuous variables"
   ]
  },
  {
   "cell_type": "code",
   "execution_count": 214,
   "metadata": {
    "scrolled": true
   },
   "outputs": [
    {
     "data": {
      "text/plain": [
       "count      35367\n",
       "mean       69095\n",
       "std        63967\n",
       "min         4000\n",
       "25%        41500\n",
       "50%        60000\n",
       "75%        82500\n",
       "max      6000000\n",
       "Name: annual_inc, dtype: int64"
      ]
     },
     "execution_count": 214,
     "metadata": {},
     "output_type": "execute_result"
    }
   ],
   "source": [
    "# Continuous variable: annual_inc\n",
    "df['annual_inc_raw'] = df['annual_inc']\n",
    "df['annual_inc'].describe().astype('int')"
   ]
  },
  {
   "cell_type": "markdown",
   "metadata": {},
   "source": [
    "standard deviation is apprx equal to mean, which means it has outliers"
   ]
  },
  {
   "cell_type": "code",
   "execution_count": 215,
   "metadata": {
    "scrolled": true
   },
   "outputs": [
    {
     "data": {
      "text/plain": [
       "medium       16625\n",
       "low          13721\n",
       "high          3709\n",
       "very high     1312\n",
       "Name: annual_inc, dtype: int64"
      ]
     },
     "execution_count": 215,
     "metadata": {},
     "output_type": "execute_result"
    }
   ],
   "source": [
    "# binning annual income\n",
    "def annual_inc(inc):\n",
    "    if inc <= 50000:\n",
    "        return 'low'\n",
    "    elif inc > 50000 and inc <=100000:\n",
    "        return 'medium'\n",
    "    elif inc > 100000 and inc <=150000:\n",
    "        return 'high'\n",
    "    else:\n",
    "        return 'very high'\n",
    "\n",
    "df['annual_inc'] = df['annual_inc'].apply(lambda x: annual_inc(x))\n",
    "df['annual_inc'].value_counts()"
   ]
  },
  {
   "cell_type": "code",
   "execution_count": 216,
   "metadata": {},
   "outputs": [
    {
     "data": {
      "text/html": [
       "<div>\n",
       "<style scoped>\n",
       "    .dataframe tbody tr th:only-of-type {\n",
       "        vertical-align: middle;\n",
       "    }\n",
       "\n",
       "    .dataframe tbody tr th {\n",
       "        vertical-align: top;\n",
       "    }\n",
       "\n",
       "    .dataframe thead th {\n",
       "        text-align: right;\n",
       "    }\n",
       "</style>\n",
       "<table border=\"1\" class=\"dataframe\">\n",
       "  <thead>\n",
       "    <tr style=\"text-align: right;\">\n",
       "      <th>loan_status_raw</th>\n",
       "      <th>Charged Off</th>\n",
       "      <th>Fully Paid</th>\n",
       "      <th>Total</th>\n",
       "    </tr>\n",
       "    <tr>\n",
       "      <th>annual_inc</th>\n",
       "      <th></th>\n",
       "      <th></th>\n",
       "      <th></th>\n",
       "    </tr>\n",
       "  </thead>\n",
       "  <tbody>\n",
       "    <tr>\n",
       "      <td>high</td>\n",
       "      <td>391</td>\n",
       "      <td>3318</td>\n",
       "      <td>3709</td>\n",
       "    </tr>\n",
       "    <tr>\n",
       "      <td>low</td>\n",
       "      <td>2229</td>\n",
       "      <td>11492</td>\n",
       "      <td>13721</td>\n",
       "    </tr>\n",
       "    <tr>\n",
       "      <td>medium</td>\n",
       "      <td>2184</td>\n",
       "      <td>14441</td>\n",
       "      <td>16625</td>\n",
       "    </tr>\n",
       "    <tr>\n",
       "      <td>very high</td>\n",
       "      <td>139</td>\n",
       "      <td>1173</td>\n",
       "      <td>1312</td>\n",
       "    </tr>\n",
       "    <tr>\n",
       "      <td>Total</td>\n",
       "      <td>4943</td>\n",
       "      <td>30424</td>\n",
       "      <td>35367</td>\n",
       "    </tr>\n",
       "  </tbody>\n",
       "</table>\n",
       "</div>"
      ],
      "text/plain": [
       "loan_status_raw  Charged Off  Fully Paid  Total\n",
       "annual_inc                                     \n",
       "high                     391        3318   3709\n",
       "low                     2229       11492  13721\n",
       "medium                  2184       14441  16625\n",
       "very high                139        1173   1312\n",
       "Total                   4943       30424  35367"
      ]
     },
     "execution_count": 216,
     "metadata": {},
     "output_type": "execute_result"
    }
   ],
   "source": [
    "pd.crosstab(df.annual_inc, df.loan_status_raw, margins=True, margins_name=\"Total\")"
   ]
  },
  {
   "cell_type": "code",
   "execution_count": 217,
   "metadata": {
    "scrolled": true
   },
   "outputs": [
    {
     "data": {
      "image/png": "[encoded data removed]",
      "text/plain": [
       "<Figure size 432x288 with 1 Axes>"
      ]
     },
     "metadata": {
      "needs_background": "light"
     },
     "output_type": "display_data"
    }
   ],
   "source": [
    "## bar plot on categorical variable : annual_inc\n",
    "sns.barplot(x='annual_inc', y='loan_status', data=df, estimator=sum)\n",
    "plt.show()"
   ]
  },
  {
   "cell_type": "markdown",
   "metadata": {},
   "source": [
    "clearly shows, low incomes has high default rates. Followed by Medium income earners."
   ]
  },
  {
   "cell_type": "code",
   "execution_count": 218,
   "metadata": {
    "scrolled": false
   },
   "outputs": [
    {
     "data": {
      "text/plain": [
       "<function matplotlib.pyplot.show(*args, **kw)>"
      ]
     },
     "execution_count": 218,
     "metadata": {},
     "output_type": "execute_result"
    },
    {
     "data": {
      "image/png": "[encoded data removed]",
      "text/plain": [
       "<Figure size 1440x720 with 1 Axes>"
      ]
     },
     "metadata": {
      "needs_background": "light"
     },
     "output_type": "display_data"
    }
   ],
   "source": [
    "# box plot on annual income variable: annual_inc\n",
    "plt.figure(figsize=(20, 10))\n",
    "plt.ylim(0, 180000)\n",
    "ax=sns.boxplot(x='loan_status_raw', y='annual_inc_raw', data = df)\n",
    "ax.set(xlabel='Loan Status', ylabel='Annual Income')\n",
    "plt.show"
   ]
  },
  {
   "cell_type": "markdown",
   "metadata": {},
   "source": [
    "It has been observed people earning as little as $4000 have been offered loans."
   ]
  },
  {
   "cell_type": "code",
   "execution_count": 219,
   "metadata": {},
   "outputs": [
    {
     "data": {
      "text/plain": [
       "count    35367\n",
       "mean     11133\n",
       "std       7326\n",
       "min        500\n",
       "25%       5500\n",
       "50%      10000\n",
       "75%      15000\n",
       "max      35000\n",
       "Name: loan_amnt, dtype: int64"
      ]
     },
     "execution_count": 219,
     "metadata": {},
     "output_type": "execute_result"
    }
   ],
   "source": [
    "df['loan_amnt'].describe().astype('int')"
   ]
  },
  {
   "cell_type": "code",
   "execution_count": 220,
   "metadata": {},
   "outputs": [
    {
     "data": {
      "text/plain": [
       "medium       11241\n",
       "low           8939\n",
       "very high     7987\n",
       "high          7200\n",
       "Name: loan_amnt_bin, dtype: int64"
      ]
     },
     "execution_count": 220,
     "metadata": {},
     "output_type": "execute_result"
    }
   ],
   "source": [
    "# binning loan_amnt\n",
    "def loan_amnt(amt):\n",
    "    if amt <= 5500:\n",
    "        return 'low'\n",
    "    elif amt > 5500 and amt <=10000:\n",
    "        return 'medium'\n",
    "    elif amt > 10000 and amt <=15000:\n",
    "        return 'high'\n",
    "    else:\n",
    "        return 'very high'\n",
    "\n",
    "df['loan_amnt_bin'] = df['loan_amnt'].apply(lambda x: loan_amnt(x))\n",
    "df['loan_amnt_bin'].value_counts()"
   ]
  },
  {
   "cell_type": "code",
   "execution_count": 228,
   "metadata": {},
   "outputs": [
    {
     "data": {
      "image/png": "[encoded data removed]",
      "text/plain": [
       "<Figure size 432x288 with 1 Axes>"
      ]
     },
     "metadata": {
      "needs_background": "light"
     },
     "output_type": "display_data"
    }
   ],
   "source": [
    "## bar plot on categorical variable : loan_amnt_bin\n",
    "sns.barplot(x='loan_amnt_bin', y='loan_status', data=df)\n",
    "plt.show()"
   ]
  },
  {
   "cell_type": "markdown",
   "metadata": {},
   "source": [
    "Very high and high amount loans tend to have more defaulters"
   ]
  },
  {
   "cell_type": "code",
   "execution_count": 229,
   "metadata": {},
   "outputs": [
    {
     "data": {
      "text/plain": [
       "count    35367.000000\n",
       "mean        13.403961\n",
       "std          6.636540\n",
       "min          0.000000\n",
       "25%          8.320000\n",
       "50%         13.500000\n",
       "75%         18.640000\n",
       "max         29.990000\n",
       "Name: dti, dtype: float64"
      ]
     },
     "execution_count": 229,
     "metadata": {},
     "output_type": "execute_result"
    }
   ],
   "source": [
    "df['dti'].describe()"
   ]
  },
  {
   "cell_type": "code",
   "execution_count": 230,
   "metadata": {},
   "outputs": [
    {
     "data": {
      "text/plain": [
       "10-15    8901\n",
       "15-20    8170\n",
       "5-10     7125\n",
       "20-25    6164\n",
       "0-5      4292\n",
       "25-30     575\n",
       "Name: dti_bin, dtype: int64"
      ]
     },
     "execution_count": 230,
     "metadata": {},
     "output_type": "execute_result"
    }
   ],
   "source": [
    "# binning debt to income ratio\n",
    "df['dti_bin'] = pd.cut(df['dti'], \n",
    "                                [0,5,10,15,20,25,30], \n",
    "                                labels=['0-5','5-10','10-15','15-20','20-25','25-30'])\n",
    "df['dti_bin'].value_counts()"
   ]
  },
  {
   "cell_type": "code",
   "execution_count": 231,
   "metadata": {},
   "outputs": [
    {
     "data": {
      "image/png": "[encoded data removed]",
      "text/plain": [
       "<Figure size 432x288 with 1 Axes>"
      ]
     },
     "metadata": {
      "needs_background": "light"
     },
     "output_type": "display_data"
    }
   ],
   "source": [
    "## bar plot on categorical variable : dti_bin\n",
    "sns.barplot(x='dti_bin', y='loan_status', data=df)\n",
    "plt.show()"
   ]
  },
  {
   "cell_type": "markdown",
   "metadata": {},
   "source": [
    "Most of the defaulters have debt to income ratio between 20 to 25 %"
   ]
  },
  {
   "cell_type": "code",
   "execution_count": 225,
   "metadata": {},
   "outputs": [
    {
     "data": {
      "text/html": [
       "<div>\n",
       "<style scoped>\n",
       "    .dataframe tbody tr th:only-of-type {\n",
       "        vertical-align: middle;\n",
       "    }\n",
       "\n",
       "    .dataframe tbody tr th {\n",
       "        vertical-align: top;\n",
       "    }\n",
       "\n",
       "    .dataframe thead th {\n",
       "        text-align: right;\n",
       "    }\n",
       "</style>\n",
       "<table border=\"1\" class=\"dataframe\">\n",
       "  <thead>\n",
       "    <tr style=\"text-align: right;\">\n",
       "      <th>loan_status_raw</th>\n",
       "      <th>Charged Off</th>\n",
       "      <th>Fully Paid</th>\n",
       "      <th>Total</th>\n",
       "    </tr>\n",
       "    <tr>\n",
       "      <th>pub_rec_bankruptcies</th>\n",
       "      <th></th>\n",
       "      <th></th>\n",
       "      <th></th>\n",
       "    </tr>\n",
       "  </thead>\n",
       "  <tbody>\n",
       "    <tr>\n",
       "      <td>0.0</td>\n",
       "      <td>4630</td>\n",
       "      <td>29268</td>\n",
       "      <td>33898</td>\n",
       "    </tr>\n",
       "    <tr>\n",
       "      <td>1.0</td>\n",
       "      <td>311</td>\n",
       "      <td>1153</td>\n",
       "      <td>1464</td>\n",
       "    </tr>\n",
       "    <tr>\n",
       "      <td>2.0</td>\n",
       "      <td>2</td>\n",
       "      <td>3</td>\n",
       "      <td>5</td>\n",
       "    </tr>\n",
       "    <tr>\n",
       "      <td>Total</td>\n",
       "      <td>4943</td>\n",
       "      <td>30424</td>\n",
       "      <td>35367</td>\n",
       "    </tr>\n",
       "  </tbody>\n",
       "</table>\n",
       "</div>"
      ],
      "text/plain": [
       "loan_status_raw       Charged Off  Fully Paid  Total\n",
       "pub_rec_bankruptcies                                \n",
       "0.0                          4630       29268  33898\n",
       "1.0                           311        1153   1464\n",
       "2.0                             2           3      5\n",
       "Total                        4943       30424  35367"
      ]
     },
     "execution_count": 225,
     "metadata": {},
     "output_type": "execute_result"
    }
   ],
   "source": [
    "pd.crosstab(df.pub_rec_bankruptcies, df.loan_status_raw, margins=True, margins_name=\"Total\")"
   ]
  },
  {
   "cell_type": "code",
   "execution_count": 226,
   "metadata": {},
   "outputs": [
    {
     "data": {
      "image/png": "[encoded data removed]",
      "text/plain": [
       "<Figure size 432x288 with 1 Axes>"
      ]
     },
     "metadata": {
      "needs_background": "light"
     },
     "output_type": "display_data"
    }
   ],
   "source": [
    "## bar plot on categorical variable : loan_amnt_bin\n",
    "sns.barplot(x='loan_status_raw', y='pub_rec_bankruptcies', data=df, estimator=sum)\n",
    "plt.show()"
   ]
  },
  {
   "cell_type": "markdown",
   "metadata": {},
   "source": [
    "It's understood, defaulters are the ones who do not have bankruptcies, and then become defaulters"
   ]
  },
  {
   "cell_type": "markdown",
   "metadata": {},
   "source": [
    "### Bivariate analysis"
   ]
  },
  {
   "cell_type": "code",
   "execution_count": 227,
   "metadata": {},
   "outputs": [],
   "source": [
    "# target column: loan_status\n",
    "defaulter_df = df.loc[df['loan_status'] == 1, :]\n",
    "paid_df = df.loc[df['loan_status'] == 0, :]"
   ]
  },
  {
   "cell_type": "code",
   "execution_count": 903,
   "metadata": {},
   "outputs": [
    {
     "data": {
      "text/plain": [
       "0.34942893160161"
      ]
     },
     "execution_count": 903,
     "metadata": {},
     "output_type": "execute_result"
    }
   ],
   "source": [
    "# continuous - continuous: loan_amnt, int_rate\n",
    "defaulter_df['int_rate'].corr(defaulter_df['loan_amnt'])"
   ]
  },
  {
   "cell_type": "code",
   "execution_count": 904,
   "metadata": {},
   "outputs": [
    {
     "data": {
      "text/plain": [
       "0.2999970721982265"
      ]
     },
     "execution_count": 904,
     "metadata": {},
     "output_type": "execute_result"
    }
   ],
   "source": [
    "df['int_rate'].corr(df['loan_amnt'])"
   ]
  },
  {
   "cell_type": "code",
   "execution_count": 905,
   "metadata": {},
   "outputs": [
    {
     "data": {
      "text/plain": [
       "0.28382252224161125"
      ]
     },
     "execution_count": 905,
     "metadata": {},
     "output_type": "execute_result"
    }
   ],
   "source": [
    "paid_df['int_rate'].corr(paid_df['loan_amnt'])"
   ]
  },
  {
   "cell_type": "markdown",
   "metadata": {},
   "source": [
    "Fully paid loans, Charged Off loans, have low positive correlation, bigger loan amounts less likely to attract bigger interest rates"
   ]
  },
  {
   "cell_type": "code",
   "execution_count": 906,
   "metadata": {},
   "outputs": [
    {
     "data": {
      "text/plain": [
       "0.07075193434980892"
      ]
     },
     "execution_count": 906,
     "metadata": {},
     "output_type": "execute_result"
    }
   ],
   "source": [
    "# continuous - continuous: loan_amnt, dti\n",
    "defaulter_df['dti'].corr(defaulter_df['loan_amnt'])"
   ]
  },
  {
   "cell_type": "code",
   "execution_count": 907,
   "metadata": {},
   "outputs": [
    {
     "data": {
      "text/plain": [
       "0.05858501652362025"
      ]
     },
     "execution_count": 907,
     "metadata": {},
     "output_type": "execute_result"
    }
   ],
   "source": [
    "paid_df['dti'].corr(paid_df['loan_amnt'])"
   ]
  },
  {
   "cell_type": "code",
   "execution_count": 908,
   "metadata": {
    "scrolled": true
   },
   "outputs": [
    {
     "data": {
      "text/html": [
       "<div>\n",
       "<style scoped>\n",
       "    .dataframe tbody tr th:only-of-type {\n",
       "        vertical-align: middle;\n",
       "    }\n",
       "\n",
       "    .dataframe tbody tr th {\n",
       "        vertical-align: top;\n",
       "    }\n",
       "\n",
       "    .dataframe thead th {\n",
       "        text-align: right;\n",
       "    }\n",
       "</style>\n",
       "<table border=\"1\" class=\"dataframe\">\n",
       "  <thead>\n",
       "    <tr style=\"text-align: right;\">\n",
       "      <th></th>\n",
       "      <th>dti</th>\n",
       "      <th>loan_amnt</th>\n",
       "    </tr>\n",
       "  </thead>\n",
       "  <tbody>\n",
       "    <tr>\n",
       "      <td>dti</td>\n",
       "      <td>1.000000</td>\n",
       "      <td>0.063093</td>\n",
       "    </tr>\n",
       "    <tr>\n",
       "      <td>loan_amnt</td>\n",
       "      <td>0.063093</td>\n",
       "      <td>1.000000</td>\n",
       "    </tr>\n",
       "  </tbody>\n",
       "</table>\n",
       "</div>"
      ],
      "text/plain": [
       "                dti  loan_amnt\n",
       "dti        1.000000   0.063093\n",
       "loan_amnt  0.063093   1.000000"
      ]
     },
     "execution_count": 908,
     "metadata": {},
     "output_type": "execute_result"
    }
   ],
   "source": [
    "df[['dti', 'loan_amnt']].corr()"
   ]
  },
  {
   "cell_type": "markdown",
   "metadata": {},
   "source": [
    "Debt to Income ratio has almost no impact on request loan amount"
   ]
  },
  {
   "cell_type": "markdown",
   "metadata": {},
   "source": [
    "#### Grade and Purpose"
   ]
  },
  {
   "cell_type": "code",
   "execution_count": 959,
   "metadata": {},
   "outputs": [
    {
     "data": {
      "image/png": "[encoded data removed]",
      "text/plain": [
       "<Figure size 1440x800 with 1 Axes>"
      ]
     },
     "metadata": {},
     "output_type": "display_data"
    }
   ],
   "source": [
    "# bar plot on categorical variable : grade\n",
    "# set figure size for larger figure\n",
    "plt.figure(num=None, figsize=(18, 10), dpi=80, facecolor='w', edgecolor='k')\n",
    "# specify hue=\"pupose\"\n",
    "sns.barplot(x='grade', y='loan_status', hue=\"purpose\", data=df)\n",
    "plt.title('Bivariate of Grade and Purpose Defaulters')\n",
    "plt.xlabel('Grade')\n",
    "plt.ylabel('Charged Off')\n",
    "plt.show()"
   ]
  },
  {
   "cell_type": "markdown",
   "metadata": {},
   "source": [
    "The Top Purpose among Top default rate Grades are\n",
    "\n",
    "Grade: G\n",
    "1. Renewable energy\n",
    "2. Home Improvement\n",
    "3. Small Business\n",
    "\n",
    "Grade: F\n",
    "1. Renewable Energy\n",
    "2. House\n",
    "3. Car"
   ]
  },
  {
   "cell_type": "markdown",
   "metadata": {},
   "source": [
    "#### Annual Income and Purpose"
   ]
  },
  {
   "cell_type": "code",
   "execution_count": 967,
   "metadata": {
    "scrolled": true
   },
   "outputs": [
    {
     "data": {
      "image/png": "[encoded data removed]",
      "text/plain": [
       "<Figure size 1440x800 with 1 Axes>"
      ]
     },
     "metadata": {},
     "output_type": "display_data"
    }
   ],
   "source": [
    "# bar plot on categorical variable : annual_inc\n",
    "# set figure size for larger figure\n",
    "plt.figure(num=None, figsize=(18, 10), dpi=80, facecolor='w', edgecolor='k')\n",
    "# specify hue=\"pupose\"\n",
    "sns.barplot(x='purpose', y='loan_status', hue=\"annual_inc\", data=df)\n",
    "plt.title('Bivariate of Annual Income and Purpose Defaulters')\n",
    "plt.xlabel('Grade')\n",
    "plt.ylabel('Charged Off')\n",
    "plt.show()"
   ]
  },
  {
   "cell_type": "markdown",
   "metadata": {},
   "source": [
    "Top purposes among Income Groups \n",
    "Low, Medium and High are\n",
    "1. Small Business\n",
    "2. Renewable Energy\n",
    "3. House"
   ]
  },
  {
   "cell_type": "markdown",
   "metadata": {},
   "source": [
    "#### Annual Income and Month Terms"
   ]
  },
  {
   "cell_type": "code",
   "execution_count": 233,
   "metadata": {
    "scrolled": true
   },
   "outputs": [
    {
     "data": {
      "image/png": "[encoded data removed]",
      "text/plain": [
       "<Figure size 960x800 with 1 Axes>"
      ]
     },
     "metadata": {},
     "output_type": "display_data"
    }
   ],
   "source": [
    "# bar plot on categorical variable : grade\n",
    "# set figure size for larger figure\n",
    "plt.figure(num=None, figsize=(12, 10), dpi=80, facecolor='w', edgecolor='k')\n",
    "# specify hue=\"pupose\"\n",
    "sns.barplot(x='term_months', y='loan_status', hue=\"annual_inc\", data=df)\n",
    "plt.title('Bivariate of Term Month and Annual Income Defaulters')\n",
    "plt.xlabel('Annual Income')\n",
    "plt.ylabel('Charged Off')\n",
    "plt.show()"
   ]
  },
  {
   "cell_type": "markdown",
   "metadata": {},
   "source": [
    "The default rate is high for all income groups in 60 month  term. Low income group tops in both groups."
   ]
  },
  {
   "cell_type": "markdown",
   "metadata": {},
   "source": [
    "#### Purpose and Employment Length"
   ]
  },
  {
   "cell_type": "code",
   "execution_count": 936,
   "metadata": {},
   "outputs": [
    {
     "data": {
      "image/png": "[encoded data removed]",
      "text/plain": [
       "<Figure size 1200x800 with 1 Axes>"
      ]
     },
     "metadata": {},
     "output_type": "display_data"
    }
   ],
   "source": [
    "# bar plot on categorical variable : purpose and emp_length\n",
    "# set figure size for larger figure\n",
    "plt.figure(num=None, figsize=(15, 10), dpi=80, facecolor='w', edgecolor='k')\n",
    "# specify hue=\"emp_length\"\n",
    "sns.barplot(x='emp_length', y='loan_status', hue=\"purpose\", data=df)\n",
    "plt.title('Bivariate of Grade and Purpose Defaulters')\n",
    "plt.xlabel('Grade')\n",
    "plt.ylabel('Charged Off')\n",
    "plt.show()"
   ]
  },
  {
   "cell_type": "markdown",
   "metadata": {},
   "source": [
    "Most stable job applicants have high debt consolidation with maximum defaulters"
   ]
  },
  {
   "cell_type": "markdown",
   "metadata": {},
   "source": [
    "#### Purpose and Issue Year"
   ]
  },
  {
   "cell_type": "code",
   "execution_count": 937,
   "metadata": {
    "scrolled": true
   },
   "outputs": [
    {
     "data": {
      "image/png": "[encoded data removed]",
      "text/plain": [
       "<Figure size 1200x800 with 1 Axes>"
      ]
     },
     "metadata": {},
     "output_type": "display_data"
    }
   ],
   "source": [
    "# bar plot on categorical variable : purpose and Issue Year\n",
    "# set figure size for larger figure\n",
    "plt.figure(num=None, figsize=(15, 10), dpi=80, facecolor='w', edgecolor='k')\n",
    "# specify hue=\"emp_length\"\n",
    "sns.barplot(x='issue_d_year', y='loan_status', hue=\"purpose\", data=df)\n",
    "plt.title('Bivariate of Issue Year and Purpose Defaulters')\n",
    "plt.xlabel('Issue Year')\n",
    "plt.ylabel('Charged Off')\n",
    "plt.show()"
   ]
  },
  {
   "cell_type": "markdown",
   "metadata": {},
   "source": [
    "Small Businesses are the Top defaulters from 2007 to 2011."
   ]
  },
  {
   "cell_type": "code",
   "execution_count": 970,
   "metadata": {},
   "outputs": [
    {
     "data": {
      "text/plain": [
       "<function matplotlib.pyplot.show(*args, **kw)>"
      ]
     },
     "execution_count": 970,
     "metadata": {},
     "output_type": "execute_result"
    },
    {
     "data": {
      "image/png": "[encoded data removed]",
      "text/plain": [
       "<Figure size 1440x720 with 1 Axes>"
      ]
     },
     "metadata": {
      "needs_background": "light"
     },
     "output_type": "display_data"
    }
   ],
   "source": [
    "# Box plot for Grade and interest rate against default rate\n",
    "plt.figure(figsize=(20, 10))\n",
    "sns.boxplot(x='grade', y='int_rate', hue='loan_status_raw', data=df)\n",
    "plt.show"
   ]
  },
  {
   "cell_type": "markdown",
   "metadata": {},
   "source": [
    "The applicats which have low grades are offered high interest rates. F and G grade applicats are offered 20% or more interst rates."
   ]
  },
  {
   "cell_type": "code",
   "execution_count": 962,
   "metadata": {
    "scrolled": true
   },
   "outputs": [
    {
     "name": "stdout",
     "output_type": "stream",
     "text": [
      "<class 'pandas.core.frame.DataFrame'>\n",
      "Int64Index: 35367 entries, 0 to 36432\n",
      "Data columns (total 25 columns):\n",
      "loan_amnt               35367 non-null int64\n",
      "funded_amnt             35367 non-null int64\n",
      "funded_amnt_inv         35367 non-null float64\n",
      "int_rate                35367 non-null float64\n",
      "installment             35367 non-null float64\n",
      "grade                   35367 non-null object\n",
      "sub_grade               35367 non-null object\n",
      "emp_title               35367 non-null object\n",
      "emp_length              35367 non-null int64\n",
      "home_ownership          35367 non-null object\n",
      "annual_inc              35367 non-null object\n",
      "verification_status     35367 non-null object\n",
      "issue_d                 35367 non-null object\n",
      "loan_status             35367 non-null int64\n",
      "purpose                 35367 non-null object\n",
      "dti                     35367 non-null float64\n",
      "pub_rec_bankruptcies    35367 non-null float64\n",
      "term_months             35367 non-null int64\n",
      "issue_d_month           35367 non-null int64\n",
      "issue_d_year            35367 non-null int64\n",
      "loan_status_raw         35367 non-null object\n",
      "int_rate_bin            35367 non-null category\n",
      "annual_inc_raw          35367 non-null float64\n",
      "loan_amnt_bin           35367 non-null object\n",
      "dti_bin                 35227 non-null category\n",
      "dtypes: category(2), float64(6), int64(7), object(10)\n",
      "memory usage: 7.8+ MB\n"
     ]
    }
   ],
   "source": [
    "df.info()"
   ]
  },
  {
   "cell_type": "code",
   "execution_count": 963,
   "metadata": {},
   "outputs": [
    {
     "data": {
      "text/plain": [
       "<matplotlib.axes._subplots.AxesSubplot at 0x1a3116e7d0>"
      ]
     },
     "execution_count": 963,
     "metadata": {},
     "output_type": "execute_result"
    },
    {
     "data": {
      "image/png": "[encoded data removed]",
      "text/plain": [
       "<Figure size 1080x864 with 2 Axes>"
      ]
     },
     "metadata": {
      "needs_background": "light"
     },
     "output_type": "display_data"
    }
   ],
   "source": [
    "# heatmap of continuous variables for Defaulters\n",
    "plt.figure(figsize=(15, 12))\n",
    "continuous_variables = ['annual_inc_raw','dti', 'loan_amnt', 'funded_amnt', 'int_rate', 'installment',\n",
    "                        'emp_length', 'pub_rec_bankruptcies', 'term_months']\n",
    "corr = defaulter_df[continuous_variables].corr()\n",
    "sns.heatmap(corr, annot=True, center=0.5)"
   ]
  },
  {
   "cell_type": "code",
   "execution_count": 964,
   "metadata": {
    "scrolled": true
   },
   "outputs": [
    {
     "data": {
      "text/plain": [
       "<matplotlib.axes._subplots.AxesSubplot at 0x1a3155b910>"
      ]
     },
     "execution_count": 964,
     "metadata": {},
     "output_type": "execute_result"
    },
    {
     "data": {
      "image/png": "[encoded data removed]",
      "text/plain": [
       "<Figure size 1080x864 with 2 Axes>"
      ]
     },
     "metadata": {
      "needs_background": "light"
     },
     "output_type": "display_data"
    }
   ],
   "source": [
    "# heatmap of continuous variables for Fully paid\n",
    "plt.figure(figsize=(15, 12))\n",
    "continuous_variables = ['annual_inc_raw','dti', 'loan_amnt', 'funded_amnt', 'int_rate', 'installment',\n",
    "                        'emp_length', 'pub_rec_bankruptcies', 'term_months']\n",
    "corr = paid_df[continuous_variables].corr()\n",
    "sns.heatmap(corr, annot=True, center=0.5)"
   ]
  }
 ],
 "metadata": {
  "kernelspec": {
   "display_name": "Python 3",
   "language": "python",
   "name": "python3"
  },
  "language_info": {
   "codemirror_mode": {
    "name": "ipython",
    "version": 3
   },
   "file_extension": ".py",
   "mimetype": "text/x-python",
   "name": "python",
   "nbconvert_exporter": "python",
   "pygments_lexer": "ipython3",
   "version": "3.7.4"
  }
 },
 "nbformat": 4,
 "nbformat_minor": 2
}
